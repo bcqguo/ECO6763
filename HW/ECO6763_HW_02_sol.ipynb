{
 "cells": [
  {
   "cell_type": "markdown",
   "metadata": {},
   "source": [
    "# ECO 6763 Homework 02: Numpy \n",
    "(Total 5 credit points)  \n",
    "Homework 02 is due on Wed 9/13/2023 11:59pm  (The hints will be your best friend, use it.)\n",
    "\n",
    "Any question? email me or post your question on course Slack channel.  \n",
    "Again the Slack link is https://join.slack.com/t/eco6763fall2023/shared_invite/zt-21tcsgmpu-BDJOMprBqrNWievEjSUOPQ\n",
    "\n",
    "**Last but not least: please rename the notebook to \"yourlastname_yourfirstname_HW_02.ipynb\" and submit it to Canvas.**"
   ]
  },
  {
   "cell_type": "markdown",
   "metadata": {},
   "source": [
    "## Problem 1 Numpy Operations \n",
    "(1 point, each sub question has 0.2 point)"
   ]
  },
  {
   "cell_type": "markdown",
   "metadata": {},
   "source": [
    "# 1-1 First, load/import the `numpy` package and use the name `np` as its alias"
   ]
  },
  {
   "cell_type": "code",
   "execution_count": 2,
   "metadata": {
    "tags": []
   },
   "outputs": [
    {
     "name": "stdout",
     "output_type": "stream",
     "text": [
      "Your numpy version is 1.24.3\n"
     ]
    }
   ],
   "source": [
    "# provide your answer here\n",
    "import numpy as np\n",
    "print(\"Your numpy version is \" + np.__version__) #your numpy version could be different from mine."
   ]
  },
  {
   "cell_type": "markdown",
   "metadata": {},
   "source": [
    "# 1-2. Create an numpy array `Z1` of `0`s of size 10, but mutate/change the **fifth** (or 4th in index) value to 2, then print the array "
   ]
  },
  {
   "cell_type": "code",
   "execution_count": 3,
   "metadata": {
    "tags": []
   },
   "outputs": [
    {
     "name": "stdout",
     "output_type": "stream",
     "text": [
      "[0. 0. 0. 0. 2. 0. 0. 0. 0. 0.]\n"
     ]
    }
   ],
   "source": [
    "# provide your answer here\n",
    "Z1 = np.zeros(10)\n",
    "Z1[4] = 2\n",
    "print(Z1)"
   ]
  },
  {
   "cell_type": "markdown",
   "metadata": {},
   "source": [
    "## 1-3. An array `Z2` is provided below. Reverse it (first element becomes last) to get a new array called `Z_reverse` \n",
    "## hints: recall magic `-1`, or use np.flip()"
   ]
  },
  {
   "cell_type": "code",
   "execution_count": 4,
   "metadata": {
    "tags": []
   },
   "outputs": [
    {
     "name": "stdout",
     "output_type": "stream",
     "text": [
      "Before reshape:\n",
      "\n",
      "[ 0  1  2  3  4  5  6  7  8  9 10 11 12 13 14 15 16 17 18 19 20 21 22 23\n",
      " 24 25 26 27 28 29 30 31 32 33 34 35 36 37 38 39 40 41 42 43 44 45 46 47\n",
      " 48 49]\n",
      "After reshape:\n",
      "\n",
      "[49 48 47 46 45 44 43 42 41 40 39 38 37 36 35 34 33 32 31 30 29 28 27 26\n",
      " 25 24 23 22 21 20 19 18 17 16 15 14 13 12 11 10  9  8  7  6  5  4  3  2\n",
      "  1  0]\n"
     ]
    }
   ],
   "source": [
    "Z2 = np.arange(50) \n",
    "print(\"Before reshape:\\n\")\n",
    "print(Z2)\n",
    "#Z_reverse = Z2[::-1] # provide your answer here  \n",
    "Z_reverse = np.flip(Z2)\n",
    "print(\"After reshape:\\n\")\n",
    "print(Z_reverse)"
   ]
  },
  {
   "cell_type": "code",
   "execution_count": 5,
   "metadata": {
    "tags": []
   },
   "outputs": [
    {
     "data": {
      "text/plain": [
       "array([49, 48, 47, 46, 45, 44, 43, 42, 41, 40, 39, 38, 37, 36, 35, 34, 33,\n",
       "       32, 31, 30, 29, 28, 27, 26, 25, 24, 23, 22, 21, 20, 19, 18, 17, 16,\n",
       "       15, 14, 13, 12, 11, 10,  9,  8,  7,  6,  5,  4,  3,  2,  1,  0])"
      ]
     },
     "execution_count": 5,
     "metadata": {},
     "output_type": "execute_result"
    }
   ],
   "source": [
    "Z2[::-1]"
   ]
  },
  {
   "cell_type": "markdown",
   "metadata": {},
   "source": [
    "## 1-4. Create a 10x10 array `Z3` with random values (use the `random` function). Then find the minimum and maximum values in the 2_D array, you can use the `.min` and `.max` functions to get the values and print the results"
   ]
  },
  {
   "cell_type": "code",
   "execution_count": 6,
   "metadata": {
    "tags": []
   },
   "outputs": [
    {
     "name": "stdout",
     "output_type": "stream",
     "text": [
      "[ 1.10855471e-03 -2.89544069e-01 -1.11606630e+00 -1.28827567e-02\n",
      " -3.78361464e-01 -4.81135363e-01 -1.51733118e+00 -4.90871981e-01\n",
      " -2.40680579e-01 -6.47947460e-01]\n",
      "Maximal value in Z3 is  2.4551826523000084\n",
      "Minimal value in Z3 is  -2.67211000417194\n",
      "\n",
      "\n"
     ]
    }
   ],
   "source": [
    "np.random.seed(9) #with a random seed I can reproduce your results\n",
    "Z3 = np.random.randn(50) #1.10855471e-03\n",
    "print(Z3[:10])\n",
    "\n",
    "# find the minimal and maximal values of Z3 called Z3min and Z3max\n",
    "# provide your answer here \n",
    "\n",
    "print(\"Maximal value in Z3 is \", Z3.max())\n",
    "print(\"Minimal value in Z3 is \", Z3.min())\n",
    "print(\"\\n\") #print a new line\n"
   ]
  },
  {
   "cell_type": "markdown",
   "metadata": {},
   "source": [
    "## 1-5. Find common values between two provided arrays below. \n",
    "## Hint: you may consider using `intersect1d()` function (As a bouns, the counterpart is setdiff1d()), OR the combination of Python basic operation `set()` to de-duplicate the elements and `&` to get the intersection subset."
   ]
  },
  {
   "cell_type": "code",
   "execution_count": 8,
   "metadata": {
    "tags": []
   },
   "outputs": [
    {
     "name": "stdout",
     "output_type": "stream",
     "text": [
      "[3 6 5 4 8 9 1 7 9 6]\n",
      "[8 0 5 0 9 6 2 0 5 2]\n"
     ]
    }
   ],
   "source": [
    "np.random.seed(1234)\n",
    "Z41 = np.random.randint(0,10,10) #notice that some of elements could be the same\n",
    "Z42 = np.random.randint(0,10,10) \n",
    "print(Z41)\n",
    "print(Z42)"
   ]
  },
  {
   "cell_type": "code",
   "execution_count": 9,
   "metadata": {
    "tags": []
   },
   "outputs": [
    {
     "data": {
      "text/plain": [
       "array([5, 6, 8, 9])"
      ]
     },
     "execution_count": 9,
     "metadata": {},
     "output_type": "execute_result"
    }
   ],
   "source": [
    "# provide your answer here \n",
    "np.intersect1d(Z41, Z42)"
   ]
  },
  {
   "cell_type": "code",
   "execution_count": 10,
   "metadata": {
    "tags": []
   },
   "outputs": [
    {
     "data": {
      "text/plain": [
       "{5, 6, 8, 9}"
      ]
     },
     "execution_count": 10,
     "metadata": {},
     "output_type": "execute_result"
    }
   ],
   "source": [
    "#use pytho set() function\n",
    "set(Z41) & set(Z42)"
   ]
  },
  {
   "cell_type": "code",
   "execution_count": null,
   "metadata": {},
   "outputs": [],
   "source": []
  },
  {
   "cell_type": "markdown",
   "metadata": {},
   "source": [
    "## Problem 2: \n",
    "\n",
    "(1 point)  Create a set of 1000 points that follow the function and add Gaussian white noise ($\\epsilon$) to the result.   \n",
    "$$f(x) = 0.5x + 1 +\\epsilon$$ \n",
    "Hint: using the `np.random.randn` function to create the Gaussian white noise ($\\epsilon$)"
   ]
  },
  {
   "cell_type": "code",
   "execution_count": 11,
   "metadata": {
    "tags": []
   },
   "outputs": [
    {
     "data": {
      "text/plain": [
       "[<matplotlib.lines.Line2D at 0x7ffaa22e4290>]"
      ]
     },
     "execution_count": 11,
     "metadata": {},
     "output_type": "execute_result"
    },
    {
     "data": {
      "image/png": "[encoded data removed]",
      "text/plain": [
       "<Figure size 640x480 with 1 Axes>"
      ]
     },
     "metadata": {},
     "output_type": "display_data"
    }
   ],
   "source": [
    "X = np.linspace(1,10,1000) #create an array with a sample size of 1000 from 1 to 10 with both boundaries included,   \n",
    "\n",
    "def f(x):\n",
    "    np.random.seed(1234) #use seed to allow the reproduction of your results\n",
    "    return 0.5 * X + 1 + np.random.randn(len(X))# provide your answer here\n",
    "\n",
    "y = f(X)\n",
    "\n",
    "import matplotlib.pyplot as plt\n",
    "plt.plot(y)"
   ]
  },
  {
   "cell_type": "markdown",
   "metadata": {},
   "source": [
    "## Problem 3 Reshape an array\n",
    "(1 point)"
   ]
  },
  {
   "cell_type": "markdown",
   "metadata": {},
   "source": [
    "Given the following integer array from a range between -10 to 10 with a default step of 0.5. Reshape to the 3-D array with 2 5X4 subarrays.\n",
    "\n",
    "Use code to print numpy array attributes (use function and dynamic coding. ** Hard coded answer will NOT receive credit **\n",
    "\n",
    "hint: consider using `arange` (code already provided) together with `reshape` function to conver the array from 1-D to 3-D array. Use print function to print the above message"
   ]
  },
  {
   "cell_type": "code",
   "execution_count": 12,
   "metadata": {
    "tags": []
   },
   "outputs": [
    {
     "name": "stdout",
     "output_type": "stream",
     "text": [
      "Creating 2 X 5 X 4 array using numpy.arange\n"
     ]
    },
    {
     "data": {
      "text/plain": [
       "array([[[-10. ,  -9.5,  -9. ,  -8.5],\n",
       "        [ -8. ,  -7.5,  -7. ,  -6.5],\n",
       "        [ -6. ,  -5.5,  -5. ,  -4.5],\n",
       "        [ -4. ,  -3.5,  -3. ,  -2.5],\n",
       "        [ -2. ,  -1.5,  -1. ,  -0.5]],\n",
       "\n",
       "       [[  0. ,   0.5,   1. ,   1.5],\n",
       "        [  2. ,   2.5,   3. ,   3.5],\n",
       "        [  4. ,   4.5,   5. ,   5.5],\n",
       "        [  6. ,   6.5,   7. ,   7.5],\n",
       "        [  8. ,   8.5,   9. ,   9.5]]])"
      ]
     },
     "execution_count": 12,
     "metadata": {},
     "output_type": "execute_result"
    }
   ],
   "source": [
    "print(\"Creating 2 X 5 X 4 array using numpy.arange\")\n",
    "\n",
    "sampleArray = np.arange(-10, 10, 0.5)\n",
    "\n",
    "sampleArray = sampleArray.reshape(2, 5, 4) \n",
    "\n",
    "sampleArray"
   ]
  },
  {
   "cell_type": "code",
   "execution_count": 13,
   "metadata": {
    "tags": []
   },
   "outputs": [
    {
     "name": "stdout",
     "output_type": "stream",
     "text": [
      "Printing numpy array Attributes \n",
      "\n",
      "1. Length of each element of array in bytes is:  40\n",
      "2. Array Shape is:  (2, 5, 4)\n",
      "3. Array dimensions are:  3\n",
      "4. The datatype of the array is:  float64\n"
     ]
    }
   ],
   "source": [
    "print(\"Printing numpy array Attributes \\n\")\n",
    "print(\"1. Length of each element of array in bytes is: \", sampleArray.size) # answer already provided, as example of dynamic coding\n",
    "\n",
    "# provide your answer as indicated below\n",
    "print(\"2. Array Shape is: \", sampleArray.shape) # provide your answer here to complete the \"print\" code)\n",
    "print(\"3. Array dimensions are: \", sampleArray.ndim) # provide your answer here to complete the \"print\" code)\n",
    "print(\"4. The datatype of the array is: \", sampleArray.dtype) # provide your answer here to complete the \"print\" code)\n"
   ]
  },
  {
   "cell_type": "markdown",
   "metadata": {},
   "source": [
    "## Problem 4 Numpy Indexing\n",
    "(1 point, each sub-question bears 0.25 point)"
   ]
  },
  {
   "cell_type": "code",
   "execution_count": 15,
   "metadata": {
    "tags": []
   },
   "outputs": [
    {
     "name": "stdout",
     "output_type": "stream",
     "text": [
      "(5, 4)\n"
     ]
    },
    {
     "data": {
      "text/plain": [
       "array([[ 3, 36, 49, 12],\n",
       "       [15, 18, 21, 24],\n",
       "       [27, 30, 33, 36],\n",
       "       [39, 42, 45, 48],\n",
       "       [51, 24, 57, 20]])"
      ]
     },
     "execution_count": 15,
     "metadata": {},
     "output_type": "execute_result"
    }
   ],
   "source": [
    "Array_1 = np.array([[3 ,36, 49, 12], [15 ,18, 21, 24], \n",
    "                    [27 ,30, 33, 36], [39 ,42, 45, 48], \n",
    "                    [51 ,24, 57, 20]]) \n",
    "print(Array_1.shape)\n",
    "Array_1"
   ]
  },
  {
   "cell_type": "markdown",
   "metadata": {},
   "source": [
    "**4-1** Return array of rows with even index (every other row starting from row 1 or index of 0) from the following numpy array Array_1. Your answer should be something like below  \n",
    "`array([[ 3, 36, 49, 12],  \n",
    "       [27, 30, 33, 36],  \n",
    "       [51, 24, 57, 20]])`"
   ]
  },
  {
   "cell_type": "code",
   "execution_count": 16,
   "metadata": {
    "tags": []
   },
   "outputs": [
    {
     "data": {
      "text/plain": [
       "array([[ 3, 36, 49, 12],\n",
       "       [27, 30, 33, 36],\n",
       "       [51, 24, 57, 20]])"
      ]
     },
     "execution_count": 16,
     "metadata": {},
     "output_type": "execute_result"
    }
   ],
   "source": [
    "Array_1[::2, :] #even row slices"
   ]
  },
  {
   "cell_type": "markdown",
   "metadata": {},
   "source": [
    "4-2 repalce the 2nd row values by all zeros"
   ]
  },
  {
   "cell_type": "code",
   "execution_count": 17,
   "metadata": {
    "tags": []
   },
   "outputs": [
    {
     "data": {
      "text/plain": [
       "array([[ 3, 36, 49, 12],\n",
       "       [ 0,  0,  0,  0],\n",
       "       [27, 30, 33, 36],\n",
       "       [39, 42, 45, 48],\n",
       "       [51, 24, 57, 20]])"
      ]
     },
     "execution_count": 17,
     "metadata": {},
     "output_type": "execute_result"
    }
   ],
   "source": [
    "#repalce the 2nd row by all zero\n",
    "Array_2 = Array_1\n",
    "Array_2[1,:] = np.zeros(4) #np.nan is float  type #\":5\" => 0:5 => 0,1,2,3,4\n",
    "Array_2"
   ]
  },
  {
   "cell_type": "markdown",
   "metadata": {},
   "source": [
    "**4-3** Print maximal value by column and minimal value by row from the above numpy array `Array_1`.  \n",
    "hint: you may use numpy `max()` and `min()` function with selected `axis`. `amax` and `amin` are the alias names of max() and min(), respectively. The answer should be `array([49, 24, 36, 48, 57])` and `array([ 3, 18, 21, 12])`, seperately.\n",
    "\n"
   ]
  },
  {
   "cell_type": "code",
   "execution_count": 18,
   "metadata": {
    "tags": []
   },
   "outputs": [
    {
     "data": {
      "text/plain": [
       "array([49,  0, 36, 48, 57])"
      ]
     },
     "execution_count": 18,
     "metadata": {},
     "output_type": "execute_result"
    }
   ],
   "source": [
    "#the maximal value by row with axis option, provide your answer here\n",
    "np.amax(Array_1, axis = 1)"
   ]
  },
  {
   "cell_type": "code",
   "execution_count": 19,
   "metadata": {
    "tags": []
   },
   "outputs": [
    {
     "data": {
      "text/plain": [
       "array([49,  0, 36, 48, 57])"
      ]
     },
     "execution_count": 19,
     "metadata": {},
     "output_type": "execute_result"
    }
   ],
   "source": [
    "# the mainimal value by column with axis option,  provide your answer here\n",
    "np.max(Array_1, axis = 1)"
   ]
  },
  {
   "cell_type": "markdown",
   "metadata": {
    "tags": []
   },
   "source": [
    "**4-4** get the squared values of each element in Array_1"
   ]
  },
  {
   "cell_type": "code",
   "execution_count": 20,
   "metadata": {
    "tags": []
   },
   "outputs": [
    {
     "data": {
      "text/plain": [
       "array([[   9, 1296, 2401,  144],\n",
       "       [   0,    0,    0,    0],\n",
       "       [ 729,  900, 1089, 1296],\n",
       "       [1521, 1764, 2025, 2304],\n",
       "       [2601,  576, 3249,  400]])"
      ]
     },
     "execution_count": 20,
     "metadata": {},
     "output_type": "execute_result"
    }
   ],
   "source": [
    "# provide your answer here\n",
    "Array_1 ** 2"
   ]
  },
  {
   "cell_type": "markdown",
   "metadata": {},
   "source": [
    "## Problem 5 Stacking & concatenation\n",
    "(1 point)"
   ]
  },
  {
   "cell_type": "code",
   "execution_count": 22,
   "metadata": {
    "tags": []
   },
   "outputs": [],
   "source": [
    "a = np.array([[1, 2], [3, 4]])\n",
    "b = np.array([[5, 6]])"
   ]
  },
  {
   "cell_type": "markdown",
   "metadata": {},
   "source": [
    "Given the arrays above, use your favorite methods to **vertically** stack array `a` and `b`.  \n",
    "hint: the possible functions could be used are: `concatenate`, `vstack`, `append`, `insert` etc.  \n",
    "hint2: if you use `concatenate`, do not forget wrap up arrays in a list and set `axis = 0 or 1` option, the default axis = 0"
   ]
  },
  {
   "cell_type": "code",
   "execution_count": 23,
   "metadata": {
    "tags": []
   },
   "outputs": [
    {
     "data": {
      "text/plain": [
       "array([[1, 2],\n",
       "       [3, 4],\n",
       "       [5, 6]])"
      ]
     },
     "execution_count": 23,
     "metadata": {},
     "output_type": "execute_result"
    }
   ],
   "source": [
    "# provide your answers here\n",
    "np.concatenate([a, b]) #you can skip axis = 0, it is the default."
   ]
  },
  {
   "cell_type": "markdown",
   "metadata": {},
   "source": [
    "Given the arrays above, use your favorite methods to methods to **horizontally** stack array `a` and `b`. \n",
    "\n",
    "hint: the functions can be used are: `concatenate`, `hstack`, `append`, `insert`, etc., make sure you have same dimension in the axis before merge them together, if not use `.T` to transpose (or rotate) the array, which swap the row with column, before merge"
   ]
  },
  {
   "cell_type": "code",
   "execution_count": 24,
   "metadata": {
    "tags": []
   },
   "outputs": [
    {
     "data": {
      "text/plain": [
       "array([[1, 2, 5],\n",
       "       [3, 4, 6]])"
      ]
     },
     "execution_count": 24,
     "metadata": {},
     "output_type": "execute_result"
    }
   ],
   "source": [
    "# provide your answers here\n",
    "np.concatenate([a, b.reshape(2,-1)], axis = 1)"
   ]
  }
 ],
 "metadata": {
  "kernelspec": {
   "display_name": "Python 3 (ipykernel)",
   "language": "python",
   "name": "python3"
  },
  "language_info": {
   "codemirror_mode": {
    "name": "ipython",
    "version": 3
   },
   "file_extension": ".py",
   "mimetype": "text/x-python",
   "name": "python",
   "nbconvert_exporter": "python",
   "pygments_lexer": "ipython3",
   "version": "3.11.5"
  }
 },
 "nbformat": 4,
 "nbformat_minor": 4
}
