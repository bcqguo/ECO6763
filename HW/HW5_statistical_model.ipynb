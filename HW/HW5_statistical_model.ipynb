{
 "cells": [
  {
   "cell_type": "markdown",
   "id": "5d62c3ef-2431-45b7-871f-cd773f11a859",
   "metadata": {
    "slideshow": {
     "slide_type": "slide"
    }
   },
   "source": [
    "# HW-5: Linear Regression & Logistic Regression\n",
    "\n",
    "*** Eco6763 ***\n",
    "\n",
    "This HW will contribute 5 credit points to your final. "
   ]
  },
  {
   "cell_type": "code",
   "execution_count": 2,
   "id": "5d6da768-25ea-42cc-a6d4-8327454872e6",
   "metadata": {
    "slideshow": {
     "slide_type": "slide"
    },
    "tags": []
   },
   "outputs": [],
   "source": [
    "# import required modules\n",
    "import numpy as np\n",
    "import pandas as pd\n",
    "import matplotlib.pyplot as plt\n",
    "import seaborn as sns\n",
    "%matplotlib inline\n",
    "import statsmodels.api as sm"
   ]
  },
  {
   "cell_type": "markdown",
   "id": "18b89e47-b4e1-450c-9b6b-3ce9c7198e2d",
   "metadata": {},
   "source": [
    "# Question 1 will use Boston housing price data\n",
    "\n",
    "The dataset contain 14 columns. The goal of this practics is to use all informtion you choose from the first 13 columns as IV to predcition the last columns `MEDV` (DV)\n",
    "\n",
    "IV:\n",
    "\n",
    " CRIM     per capita crime rate by town <br>\n",
    " ZN       proportion of residential land zoned for lots over 25,000 sq.ft.<br>\n",
    " INDUS    proportion of non-retail business acres per town<br>\n",
    " CHAS     Charles River dummy variable (= 1 if tract bounds river; 0 otherwise)<br>\n",
    " NOX      nitric oxides concentration (parts per 10 million)<br>\n",
    " RM       average number of rooms per dwelling<br>\n",
    " AGE      proportion of owner-occupied units built prior to 1940<br>\n",
    " DIS      weighted distances to five Boston employment centres<br>\n",
    " RAD      index of accessibility to radial highways<br>\n",
    " TAX      full-value property-tax rate per $10,000<br>\n",
    " PTRATIO  pupil-teacher ratio by town<br>\n",
    " B        1000(Bk - 0.63)^2 where Bk is the proportion of blacks by town<br>\n",
    " LSTAT    % lower status of the population<br>\n",
    " \n",
    "DV:\n",
    "\n",
    " MEDV     Median value of owner-occupied homes in $1000's\n"
   ]
  },
  {
   "cell_type": "markdown",
   "id": "4c278250-3868-4039-854c-295f3b3b6a03",
   "metadata": {},
   "source": [
    "## Question-1 (2.5 credict points) \n",
    "\n",
    "Given the dataset provided as below, practice the linear regression"
   ]
  },
  {
   "cell_type": "code",
   "execution_count": 3,
   "id": "b9ac3059-8e86-4e4f-a51d-530a7381b39c",
   "metadata": {
    "tags": []
   },
   "outputs": [],
   "source": [
    "#read boston dataset directly from a URL \n",
    "data_url = \"http://lib.stat.cmu.edu/datasets/boston\"\n",
    "raw_df = pd.read_csv(data_url, sep=\"\\s+\", skiprows=22, header=None)\n",
    "\n",
    "#process dataset\n",
    "X_np = np.hstack([raw_df.values[::2, :], raw_df.values[1::2, :2]])\n",
    "y_np = raw_df.values[1::2, 2]"
   ]
  },
  {
   "cell_type": "code",
   "execution_count": 4,
   "id": "ca87f02a-bcb6-4542-8800-d51794f9060d",
   "metadata": {
    "tags": []
   },
   "outputs": [],
   "source": [
    "X_pd = pd.DataFrame(X_np)\n",
    "X_pd.columns = ['CRIM', 'ZN', 'INDUS', 'CHAS', 'NOX', 'RM', 'AGE', 'DIS', 'RAD', 'TAX',\n",
    "       'PTRATIO', 'B', 'LSTAT'] "
   ]
  },
  {
   "cell_type": "code",
   "execution_count": 6,
   "id": "9ea57097-72ce-42c5-a538-c18170715503",
   "metadata": {
    "tags": []
   },
   "outputs": [],
   "source": [
    "y_pd = pd.Series(y_np, name = 'Price')"
   ]
  },
  {
   "cell_type": "markdown",
   "id": "bacc47fe-4427-421e-9da5-e7839ed3b4ec",
   "metadata": {},
   "source": [
    "## Question 1-1 (0.5 credit point), \n",
    "\n",
    "### Instruction: ###\n",
    "\n",
    "USE CODE to find which 2 columns in X_pd dataframe have the highest absolute correlation coefficient. DO NOT HARD CODE the column names! <br>\n",
    "hint: use `df.corr()` get correlation matrix then find 2 columns that have highest correlation coefficient other than itself. `np.max()` will give you the maximal of a n-by-n array, so convert pandas df to numpy array by `df.to_numpy()` followed by `.max()`, or you can simply use `df.max().max()` to get maximal of each column by `df.max()` then the maximal of it by the 2nd `.max()`. When comparing float data type, be cautious of decimal. If negative coefficient is observed, use `abs()` to get absolute value first. To get the names of 2 columns have the highest absolute correlation coefficient, you can try `for-loop`. If you compare the `float` data type, pay attention to the decimal issue.  "
   ]
  },
  {
   "cell_type": "code",
   "execution_count": 11,
   "id": "0278002f-5e44-4e38-b437-c79767b09045",
   "metadata": {
    "tags": []
   },
   "outputs": [
    {
     "name": "stdout",
     "output_type": "stream",
     "text": [
      "The highest correlation coefficient is  0.9102281885331865\n"
     ]
    }
   ],
   "source": [
    "#given the correlation matrix\n",
    "X_corr = X_pd.corr().abs().replace(1, 0)\n",
    "\n",
    "#privide your code to get the maximal correlation coefficient\n",
    "highest_corr_coeff = \n",
    "\n",
    "print(\"The highest correlation coefficient is \" , highest_corr_coeff)"
   ]
  },
  {
   "cell_type": "code",
   "execution_count": 14,
   "id": "601a4419-f404-4dc9-ac13-5749166d1dd9",
   "metadata": {
    "tags": []
   },
   "outputs": [
    {
     "name": "stdout",
     "output_type": "stream",
     "text": [
      "The columns with highest correlation coefficient are RAD and TAX\n"
     ]
    }
   ],
   "source": [
    "# find the names of 2 columns have the maxinal absolute correlation coefficient, \n",
    "# DO NOT hard code the column names! provide your code here\n",
    "\n",
    "highest_cols = \n",
    "\n",
    "print(f\"The columns with highest correlation coefficient are {highest_cols[0]} and {highest_cols[1]}\") "
   ]
  },
  {
   "cell_type": "markdown",
   "id": "419dbbd8-ec2d-41b4-a70b-dabd88a9531e",
   "metadata": {
    "slideshow": {
     "slide_type": "slide"
    }
   },
   "source": [
    "## Question 1-2 (0.5 credit point)\n",
    "\n",
    "### Instruction: ###\n",
    "\n",
    "fit a linear regression model between X_pd and y_pd using any parametric regression methods as we learned in the class, and print out coefficients. Based on the model summary, how many IV are not significant for the model and should be dropped? (hint: if the `p-value` of IV is larger than 0.05, we claim the IV is not signficant for the model at the significance level of 0.05)\n",
    "\n",
    "hint: you can use either sklearn or statsmodel to fit a LR"
   ]
  },
  {
   "cell_type": "code",
   "execution_count": 12,
   "id": "a96d324f-eec4-439f-9697-7eb156862191",
   "metadata": {
    "slideshow": {
     "slide_type": "fragment"
    }
   },
   "outputs": [
    {
     "data": {
      "text/html": [
       "<div>\n",
       "<style scoped>\n",
       "    .dataframe tbody tr th:only-of-type {\n",
       "        vertical-align: middle;\n",
       "    }\n",
       "\n",
       "    .dataframe tbody tr th {\n",
       "        vertical-align: top;\n",
       "    }\n",
       "\n",
       "    .dataframe thead th {\n",
       "        text-align: right;\n",
       "    }\n",
       "</style>\n",
       "<table border=\"1\" class=\"dataframe\">\n",
       "  <thead>\n",
       "    <tr style=\"text-align: right;\">\n",
       "      <th></th>\n",
       "      <th>Coef.</th>\n",
       "      <th>Std.Err.</th>\n",
       "      <th>t</th>\n",
       "      <th>P&gt;|t|</th>\n",
       "      <th>[0.025</th>\n",
       "      <th>0.975]</th>\n",
       "    </tr>\n",
       "  </thead>\n",
       "  <tbody>\n",
       "    <tr>\n",
       "      <th>const</th>\n",
       "      <td>36.459488</td>\n",
       "      <td>5.103459</td>\n",
       "      <td>7.144074</td>\n",
       "      <td>3.283438e-12</td>\n",
       "      <td>26.432226</td>\n",
       "      <td>46.486751</td>\n",
       "    </tr>\n",
       "    <tr>\n",
       "      <th>CRIM</th>\n",
       "      <td>-0.108011</td>\n",
       "      <td>0.032865</td>\n",
       "      <td>-3.286517</td>\n",
       "      <td>1.086810e-03</td>\n",
       "      <td>-0.172584</td>\n",
       "      <td>-0.043438</td>\n",
       "    </tr>\n",
       "    <tr>\n",
       "      <th>ZN</th>\n",
       "      <td>0.046420</td>\n",
       "      <td>0.013727</td>\n",
       "      <td>3.381576</td>\n",
       "      <td>7.781097e-04</td>\n",
       "      <td>0.019449</td>\n",
       "      <td>0.073392</td>\n",
       "    </tr>\n",
       "    <tr>\n",
       "      <th>INDUS</th>\n",
       "      <td>0.020559</td>\n",
       "      <td>0.061496</td>\n",
       "      <td>0.334310</td>\n",
       "      <td>7.382881e-01</td>\n",
       "      <td>-0.100268</td>\n",
       "      <td>0.141385</td>\n",
       "    </tr>\n",
       "    <tr>\n",
       "      <th>CHAS</th>\n",
       "      <td>2.686734</td>\n",
       "      <td>0.861580</td>\n",
       "      <td>3.118381</td>\n",
       "      <td>1.925030e-03</td>\n",
       "      <td>0.993904</td>\n",
       "      <td>4.379563</td>\n",
       "    </tr>\n",
       "    <tr>\n",
       "      <th>NOX</th>\n",
       "      <td>-17.766611</td>\n",
       "      <td>3.819744</td>\n",
       "      <td>-4.651257</td>\n",
       "      <td>4.245644e-06</td>\n",
       "      <td>-25.271634</td>\n",
       "      <td>-10.261589</td>\n",
       "    </tr>\n",
       "    <tr>\n",
       "      <th>RM</th>\n",
       "      <td>3.809865</td>\n",
       "      <td>0.417925</td>\n",
       "      <td>9.116140</td>\n",
       "      <td>1.979441e-18</td>\n",
       "      <td>2.988727</td>\n",
       "      <td>4.631004</td>\n",
       "    </tr>\n",
       "    <tr>\n",
       "      <th>AGE</th>\n",
       "      <td>0.000692</td>\n",
       "      <td>0.013210</td>\n",
       "      <td>0.052402</td>\n",
       "      <td>9.582293e-01</td>\n",
       "      <td>-0.025262</td>\n",
       "      <td>0.026647</td>\n",
       "    </tr>\n",
       "    <tr>\n",
       "      <th>DIS</th>\n",
       "      <td>-1.475567</td>\n",
       "      <td>0.199455</td>\n",
       "      <td>-7.398004</td>\n",
       "      <td>6.013491e-13</td>\n",
       "      <td>-1.867455</td>\n",
       "      <td>-1.083679</td>\n",
       "    </tr>\n",
       "    <tr>\n",
       "      <th>RAD</th>\n",
       "      <td>0.306049</td>\n",
       "      <td>0.066346</td>\n",
       "      <td>4.612900</td>\n",
       "      <td>5.070529e-06</td>\n",
       "      <td>0.175692</td>\n",
       "      <td>0.436407</td>\n",
       "    </tr>\n",
       "    <tr>\n",
       "      <th>TAX</th>\n",
       "      <td>-0.012335</td>\n",
       "      <td>0.003761</td>\n",
       "      <td>-3.280009</td>\n",
       "      <td>1.111637e-03</td>\n",
       "      <td>-0.019723</td>\n",
       "      <td>-0.004946</td>\n",
       "    </tr>\n",
       "    <tr>\n",
       "      <th>PTRATIO</th>\n",
       "      <td>-0.952747</td>\n",
       "      <td>0.130827</td>\n",
       "      <td>-7.282511</td>\n",
       "      <td>1.308835e-12</td>\n",
       "      <td>-1.209795</td>\n",
       "      <td>-0.695699</td>\n",
       "    </tr>\n",
       "    <tr>\n",
       "      <th>B</th>\n",
       "      <td>0.009312</td>\n",
       "      <td>0.002686</td>\n",
       "      <td>3.466793</td>\n",
       "      <td>5.728592e-04</td>\n",
       "      <td>0.004034</td>\n",
       "      <td>0.014589</td>\n",
       "    </tr>\n",
       "    <tr>\n",
       "      <th>LSTAT</th>\n",
       "      <td>-0.524758</td>\n",
       "      <td>0.050715</td>\n",
       "      <td>-10.347146</td>\n",
       "      <td>7.776912e-23</td>\n",
       "      <td>-0.624404</td>\n",
       "      <td>-0.425113</td>\n",
       "    </tr>\n",
       "  </tbody>\n",
       "</table>\n",
       "</div>"
      ],
      "text/plain": [
       "             Coef.  Std.Err.          t         P>|t|     [0.025     0.975]\n",
       "const    36.459488  5.103459   7.144074  3.283438e-12  26.432226  46.486751\n",
       "CRIM     -0.108011  0.032865  -3.286517  1.086810e-03  -0.172584  -0.043438\n",
       "ZN        0.046420  0.013727   3.381576  7.781097e-04   0.019449   0.073392\n",
       "INDUS     0.020559  0.061496   0.334310  7.382881e-01  -0.100268   0.141385\n",
       "CHAS      2.686734  0.861580   3.118381  1.925030e-03   0.993904   4.379563\n",
       "NOX     -17.766611  3.819744  -4.651257  4.245644e-06 -25.271634 -10.261589\n",
       "RM        3.809865  0.417925   9.116140  1.979441e-18   2.988727   4.631004\n",
       "AGE       0.000692  0.013210   0.052402  9.582293e-01  -0.025262   0.026647\n",
       "DIS      -1.475567  0.199455  -7.398004  6.013491e-13  -1.867455  -1.083679\n",
       "RAD       0.306049  0.066346   4.612900  5.070529e-06   0.175692   0.436407\n",
       "TAX      -0.012335  0.003761  -3.280009  1.111637e-03  -0.019723  -0.004946\n",
       "PTRATIO  -0.952747  0.130827  -7.282511  1.308835e-12  -1.209795  -0.695699\n",
       "B         0.009312  0.002686   3.466793  5.728592e-04   0.004034   0.014589\n",
       "LSTAT    -0.524758  0.050715 -10.347146  7.776912e-23  -0.624404  -0.425113"
      ]
     },
     "execution_count": 12,
     "metadata": {},
     "output_type": "execute_result"
    }
   ],
   "source": [
    "#provide your code here\n",
    "\n",
    "\n",
    "\n"
   ]
  },
  {
   "cell_type": "code",
   "execution_count": 13,
   "id": "b371af89-62c6-4b10-b99c-a5dd1f7bd3f5",
   "metadata": {},
   "outputs": [
    {
     "data": {
      "text/plain": [
       "INDUS    0.738288\n",
       "AGE      0.958229\n",
       "Name: P>|t|, dtype: float64"
      ]
     },
     "execution_count": 13,
     "metadata": {},
     "output_type": "execute_result"
    }
   ],
   "source": [
    "#provide your code to identify any IV that is not significant based on p-value\n",
    "\n",
    "\n"
   ]
  },
  {
   "cell_type": "markdown",
   "id": "dda4791c-522f-4ecb-ac57-d889b93b1faa",
   "metadata": {
    "slideshow": {
     "slide_type": "slide"
    }
   },
   "source": [
    "## Question 1-3 (0.5 credit point)\n",
    "\n",
    "### Instrunction:\n",
    "\n",
    "create a new X input with mean value of each column you used to fit the model, and predict the DV  \n",
    "\n",
    "hint: if you use statsmodel, you need to add a constant of 1 as the coefficient of intercept term to construct a 2-D complete model input in the same format as the training set."
   ]
  },
  {
   "cell_type": "code",
   "execution_count": 1,
   "id": "441371d3-bd9c-4429-ae68-d1acfa1ecb15",
   "metadata": {
    "tags": []
   },
   "outputs": [],
   "source": [
    "#provide your code here to predict the new data with values of the means of training columns\n"
   ]
  },
  {
   "cell_type": "markdown",
   "id": "4ebbcdcf-4943-4649-a616-999dd436cb05",
   "metadata": {
    "tags": []
   },
   "source": [
    "### Question 1-4 (0.5 credit point)\n",
    "\n",
    "Use any non-parametric regression method to fit a regression model and compare the predicitions on the new data described in Q1-3. "
   ]
  },
  {
   "cell_type": "code",
   "execution_count": null,
   "id": "7a899ff6-9681-4150-92c6-e718ede9aa37",
   "metadata": {},
   "outputs": [],
   "source": [
    "#provide your code here to fit a non-parametric regression model\n",
    "\n",
    "\n",
    "\n",
    "#predict the new data input describede in Q1-3\n",
    "\n"
   ]
  },
  {
   "cell_type": "markdown",
   "id": "f13308d0-8433-4cea-8ffc-20fcb1a3ae0f",
   "metadata": {},
   "source": [
    "### Question 1-5 (0.5 credit point)\n",
    "\n",
    "Briefly discuss your findings between the non-parametric and the parametirc models. This is an open question. "
   ]
  },
  {
   "cell_type": "markdown",
   "id": "37727c43-ebdd-4d8a-8573-27b84a752cf3",
   "metadata": {},
   "source": []
  },
  {
   "cell_type": "markdown",
   "id": "a88722c8-c36f-4401-a320-e14d9e78952f",
   "metadata": {},
   "source": [
    "## Question-2 (2.5 credict points) "
   ]
  },
  {
   "cell_type": "markdown",
   "id": "c09a16c0-aebd-4237-9f68-ff9bbb98c55a",
   "metadata": {},
   "source": [
    "### Instruction: ###\n",
    "\n",
    "import the data set from the attached csv file as `insurance2.csv`"
   ]
  },
  {
   "cell_type": "code",
   "execution_count": 26,
   "id": "15fefef2-b559-42b7-af10-79a525da306b",
   "metadata": {},
   "outputs": [
    {
     "data": {
      "text/plain": [
       "(1338, 8)"
      ]
     },
     "execution_count": 26,
     "metadata": {},
     "output_type": "execute_result"
    }
   ],
   "source": [
    "#provide your code to import teh attached csv file and get the shape of object\n",
    "insurance = pd.read_csv(\"insurance2.csv\")\n",
    "insurance.shape"
   ]
  },
  {
   "cell_type": "code",
   "execution_count": 27,
   "id": "22ae2ea8-79ae-425d-ae9f-2ffb5f07c81e",
   "metadata": {},
   "outputs": [
    {
     "data": {
      "text/html": [
       "<div>\n",
       "<style scoped>\n",
       "    .dataframe tbody tr th:only-of-type {\n",
       "        vertical-align: middle;\n",
       "    }\n",
       "\n",
       "    .dataframe tbody tr th {\n",
       "        vertical-align: top;\n",
       "    }\n",
       "\n",
       "    .dataframe thead th {\n",
       "        text-align: right;\n",
       "    }\n",
       "</style>\n",
       "<table border=\"1\" class=\"dataframe\">\n",
       "  <thead>\n",
       "    <tr style=\"text-align: right;\">\n",
       "      <th></th>\n",
       "      <th>age</th>\n",
       "      <th>sex</th>\n",
       "      <th>bmi</th>\n",
       "      <th>children</th>\n",
       "      <th>smoker</th>\n",
       "      <th>region</th>\n",
       "      <th>charges</th>\n",
       "      <th>insuranceclaim</th>\n",
       "    </tr>\n",
       "  </thead>\n",
       "  <tbody>\n",
       "    <tr>\n",
       "      <th>count</th>\n",
       "      <td>1338.000000</td>\n",
       "      <td>1338.000000</td>\n",
       "      <td>1338.000000</td>\n",
       "      <td>1338.000000</td>\n",
       "      <td>1338.000000</td>\n",
       "      <td>1338.000000</td>\n",
       "      <td>1338.000000</td>\n",
       "      <td>1338.000000</td>\n",
       "    </tr>\n",
       "    <tr>\n",
       "      <th>mean</th>\n",
       "      <td>39.207025</td>\n",
       "      <td>0.505232</td>\n",
       "      <td>30.663397</td>\n",
       "      <td>1.094918</td>\n",
       "      <td>0.204783</td>\n",
       "      <td>1.515695</td>\n",
       "      <td>13270.422265</td>\n",
       "      <td>0.585202</td>\n",
       "    </tr>\n",
       "    <tr>\n",
       "      <th>std</th>\n",
       "      <td>14.049960</td>\n",
       "      <td>0.500160</td>\n",
       "      <td>6.098187</td>\n",
       "      <td>1.205493</td>\n",
       "      <td>0.403694</td>\n",
       "      <td>1.104885</td>\n",
       "      <td>12110.011237</td>\n",
       "      <td>0.492871</td>\n",
       "    </tr>\n",
       "    <tr>\n",
       "      <th>min</th>\n",
       "      <td>18.000000</td>\n",
       "      <td>0.000000</td>\n",
       "      <td>15.960000</td>\n",
       "      <td>0.000000</td>\n",
       "      <td>0.000000</td>\n",
       "      <td>0.000000</td>\n",
       "      <td>1121.873900</td>\n",
       "      <td>0.000000</td>\n",
       "    </tr>\n",
       "    <tr>\n",
       "      <th>25%</th>\n",
       "      <td>27.000000</td>\n",
       "      <td>0.000000</td>\n",
       "      <td>26.296250</td>\n",
       "      <td>0.000000</td>\n",
       "      <td>0.000000</td>\n",
       "      <td>1.000000</td>\n",
       "      <td>4740.287150</td>\n",
       "      <td>0.000000</td>\n",
       "    </tr>\n",
       "    <tr>\n",
       "      <th>50%</th>\n",
       "      <td>39.000000</td>\n",
       "      <td>1.000000</td>\n",
       "      <td>30.400000</td>\n",
       "      <td>1.000000</td>\n",
       "      <td>0.000000</td>\n",
       "      <td>2.000000</td>\n",
       "      <td>9382.033000</td>\n",
       "      <td>1.000000</td>\n",
       "    </tr>\n",
       "    <tr>\n",
       "      <th>75%</th>\n",
       "      <td>51.000000</td>\n",
       "      <td>1.000000</td>\n",
       "      <td>34.693750</td>\n",
       "      <td>2.000000</td>\n",
       "      <td>0.000000</td>\n",
       "      <td>2.000000</td>\n",
       "      <td>16639.912515</td>\n",
       "      <td>1.000000</td>\n",
       "    </tr>\n",
       "    <tr>\n",
       "      <th>max</th>\n",
       "      <td>64.000000</td>\n",
       "      <td>1.000000</td>\n",
       "      <td>53.130000</td>\n",
       "      <td>5.000000</td>\n",
       "      <td>1.000000</td>\n",
       "      <td>3.000000</td>\n",
       "      <td>63770.428010</td>\n",
       "      <td>1.000000</td>\n",
       "    </tr>\n",
       "  </tbody>\n",
       "</table>\n",
       "</div>"
      ],
      "text/plain": [
       "               age          sex          bmi     children       smoker  \\\n",
       "count  1338.000000  1338.000000  1338.000000  1338.000000  1338.000000   \n",
       "mean     39.207025     0.505232    30.663397     1.094918     0.204783   \n",
       "std      14.049960     0.500160     6.098187     1.205493     0.403694   \n",
       "min      18.000000     0.000000    15.960000     0.000000     0.000000   \n",
       "25%      27.000000     0.000000    26.296250     0.000000     0.000000   \n",
       "50%      39.000000     1.000000    30.400000     1.000000     0.000000   \n",
       "75%      51.000000     1.000000    34.693750     2.000000     0.000000   \n",
       "max      64.000000     1.000000    53.130000     5.000000     1.000000   \n",
       "\n",
       "            region       charges  insuranceclaim  \n",
       "count  1338.000000   1338.000000     1338.000000  \n",
       "mean      1.515695  13270.422265        0.585202  \n",
       "std       1.104885  12110.011237        0.492871  \n",
       "min       0.000000   1121.873900        0.000000  \n",
       "25%       1.000000   4740.287150        0.000000  \n",
       "50%       2.000000   9382.033000        1.000000  \n",
       "75%       2.000000  16639.912515        1.000000  \n",
       "max       3.000000  63770.428010        1.000000  "
      ]
     },
     "execution_count": 27,
     "metadata": {},
     "output_type": "execute_result"
    }
   ],
   "source": [
    "insurance.describe()"
   ]
  },
  {
   "cell_type": "markdown",
   "id": "0218933c-4b1a-4766-ade8-00bcd2609b69",
   "metadata": {},
   "source": [
    "### Question 2-1 (0.5 credit point)\n",
    "\n",
    "fit a logistic regression model on binary DV of `insuranceclaim` with all other columns as IV. If the model fit could not converge, you can increase the `max_iter` to a higher number like 1000 from the default of 100 as instructed as https://scikit-learn.org/stable/modules/generated/sklearn.linear_model.LogisticRegression.html\n",
    "\n",
    "Run model inference on the same training data and use `sns.heatmap()` plot the confusion matrix created by `metrics.confusion_matrix()`."
   ]
  },
  {
   "cell_type": "code",
   "execution_count": 18,
   "id": "e5c87477-2784-4f5d-a8f1-35e7b69ec836",
   "metadata": {},
   "outputs": [
    {
     "data": {
      "text/plain": [
       "<AxesSubplot:>"
      ]
     },
     "execution_count": 18,
     "metadata": {},
     "output_type": "execute_result"
    },
    {
     "data": {
      "image/png": "[encoded data removed]",
      "text/plain": [
       "<Figure size 432x288 with 2 Axes>"
      ]
     },
     "metadata": {
      "needs_background": "light"
     },
     "output_type": "display_data"
    }
   ],
   "source": [
    "from sklearn.linear_model import LogisticRegression\n",
    "from sklearn import metrics\n",
    "\n",
    "#provide you code here to fit a logistic regression model\n",
    "\n",
    "\n",
    "\n",
    "#provide your code to get confusion matrix on the predicted y and observed y \n",
    "\n"
   ]
  },
  {
   "cell_type": "markdown",
   "id": "319c23ab-333f-45db-82ce-5515b6276dac",
   "metadata": {},
   "source": [
    "### Question 2-2 (0.5 credit point)\n",
    "\n",
    "Get the prediction of class and probability of an inference data with the mean value of each column except the column `insuranceclaim`. Mhint: since the model is trained on a dataset with column name, the inference data should also have exactly same IV name in order with IV value."
   ]
  },
  {
   "cell_type": "code",
   "execution_count": 19,
   "id": "901eaf38-f479-4502-ae4e-9a7d5e8302a3",
   "metadata": {},
   "outputs": [
    {
     "data": {
      "text/plain": [
       "1"
      ]
     },
     "execution_count": 19,
     "metadata": {},
     "output_type": "execute_result"
    }
   ],
   "source": [
    "#provide your code to get the predicted class\n"
   ]
  },
  {
   "cell_type": "code",
   "execution_count": 20,
   "id": "3a1db3bb-892b-4277-904b-1f0dc4a1ac94",
   "metadata": {},
   "outputs": [
    {
     "data": {
      "text/plain": [
       "[0.315740054016751, 0.684259945983249]"
      ]
     },
     "execution_count": 20,
     "metadata": {},
     "output_type": "execute_result"
    }
   ],
   "source": [
    "#provide your code to get the probabilities of binary classes of 0 and 1\n",
    "\n"
   ]
  },
  {
   "cell_type": "markdown",
   "id": "0247774d-e1bb-45d4-9936-b207c47d43d6",
   "metadata": {},
   "source": [
    "### Question 2-3 (0.5 credit point)\n",
    "\n",
    "fit another LR model on the scaled data as https://scikit-learn.org/stable/modules/generated/sklearn.preprocessing.scale.html\n",
    "\n",
    "The scaled data has been provided , and fit a LR model again to see if the predicted class and probabilites are all  the same. If not, which version of model is better with your justification? "
   ]
  },
  {
   "cell_type": "code",
   "execution_count": 21,
   "id": "f05f96e5-25df-476d-84d2-15f4863c82cb",
   "metadata": {},
   "outputs": [],
   "source": [
    "from sklearn.preprocessing import StandardScaler\n",
    "scaler = StandardScaler()\n",
    "insurance_scaled = scaler.fit_transform(insurance.iloc[:,:-1])"
   ]
  },
  {
   "cell_type": "code",
   "execution_count": 22,
   "id": "e8437155-ea4f-48cd-b74b-e07c5371057a",
   "metadata": {},
   "outputs": [
    {
     "data": {
      "text/plain": [
       "LogisticRegression(max_iter=1000)"
      ]
     },
     "execution_count": 22,
     "metadata": {},
     "output_type": "execute_result"
    }
   ],
   "source": [
    "#provide you code here to fit a new model on the scaled data\n",
    "\n"
   ]
  },
  {
   "cell_type": "code",
   "execution_count": 23,
   "id": "d879aece-91ce-445f-a02c-d425b729c04a",
   "metadata": {},
   "outputs": [
    {
     "data": {
      "text/plain": [
       "1"
      ]
     },
     "execution_count": 23,
     "metadata": {},
     "output_type": "execute_result"
    }
   ],
   "source": [
    "#provide your code to get the predicted class on the means of scalered data\n",
    "\n"
   ]
  },
  {
   "cell_type": "code",
   "execution_count": null,
   "id": "e7736ed4-4cd0-42ca-94df-b597576b4412",
   "metadata": {},
   "outputs": [
    {
     "data": {
      "text/plain": [
       "[0.3153222939490198, 0.6846777060509802]"
      ]
     },
     "execution_count": 238,
     "metadata": {},
     "output_type": "execute_result"
    }
   ],
   "source": [
    "#provide your code to get the predicted probabilities on the on the means of scalered data and provide you justice on which model seems better. \n",
    "\n"
   ]
  },
  {
   "cell_type": "markdown",
   "id": "74be8e5d-30b4-4982-ab6f-bb21b3ab0542",
   "metadata": {},
   "source": [
    "## Question 2-4 (1 credit point)\n",
    "\n",
    "get predicted probabilities of train set and plot ROC curve and get the area under curve (AUC) in percentage. hint: the probabilities for AUC plot is the probabilitis of pos-label, in this case, it is 1 for insuranceclaim. The output of predicted probabilities is n by 2, you need to slice out the probabilities in the 2nd column for roc curve. The auc score can be calculated as `roc_auc_score`"
   ]
  },
  {
   "cell_type": "code",
   "execution_count": null,
   "id": "66a09ecc-c027-4313-81a9-04957dabd3af",
   "metadata": {},
   "outputs": [
    {
     "data": {
      "image/png": "[encoded data removed]",
      "text/plain": [
       "<Figure size 432x288 with 1 Axes>"
      ]
     },
     "metadata": {
      "needs_background": "light"
     },
     "output_type": "display_data"
    }
   ],
   "source": [
    "#provide your code to plot the AUC with legend\n",
    "\n",
    "\n",
    "\n",
    "\n"
   ]
  }
 ],
 "metadata": {
  "kernelspec": {
   "display_name": "Python 3 (ipykernel)",
   "language": "python",
   "name": "python3"
  },
  "language_info": {
   "codemirror_mode": {
    "name": "ipython",
    "version": 3
   },
   "file_extension": ".py",
   "mimetype": "text/x-python",
   "name": "python",
   "nbconvert_exporter": "python",
   "pygments_lexer": "ipython3",
   "version": "3.11.5"
  }
 },
 "nbformat": 4,
 "nbformat_minor": 5
}
