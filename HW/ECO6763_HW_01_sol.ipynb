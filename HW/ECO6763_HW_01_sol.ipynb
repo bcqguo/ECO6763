{
 "cells": [
  {
   "cell_type": "markdown",
   "metadata": {},
   "source": [
    "## Homework-1 Introduction & Python Basics \n",
    "\n",
    "(A total of 6 questions for 5 credit points, 0.5 point for the first 2 questions, and 1 point for the next 4 questions.)\n",
    "\n",
    "Attention:\n",
    "* <font color='red'>This homework is due 9/9/2023 11:59pm</font> \n",
    "* <font color='red'>Hard code the solution will NOT get the credit!</font> \n",
    "### *please submit the final code to Canvas Assignment, acceptable format: `.ipynb` only, *\n",
    "### *Do not right click the notebook to save, it will save as a html instead.* "
   ]
  },
  {
   "cell_type": "markdown",
   "metadata": {},
   "source": [
    "Your homework assignment is a Jupyter Notebook. If you still need help to install Anaconda or run Jupyter Notebook, contact your isntructor @ `dgqv3@mst.edu`. \n",
    "\n",
    "Some questions require you to write code to output the required result. Please replace the statement of \"\\<provide your answer here>\\\" with your code. There is no lines limit of your solution code. But the shorter the better.   \n",
    "\n",
    "Make sure you test your code by hitting the \"CTL + Enter\" or Right triangler in the tool bar and compare your results with the expected results to get full credit. You are encourage to comment your code with \"# your comment\" in the cell or insert Markdown cells above the cell. \n",
    "\n",
    "When you're done with your assignment, go to \"Kernel\" in the main menu and click \"Restart & Run All\" to ensure all your code can be run end to end without any error, and the results/outputs are successfully displayed as instructed or implied. \n",
    "\n",
    "Finally you can save the file as \"lastname_firstname_HW_01.ipynb\" before you submit it in Canvas on or before due date."
   ]
  },
  {
   "cell_type": "markdown",
   "metadata": {},
   "source": [
    "## Problem 1: Simple indexing and list functions (0.5 point)\n",
    "There is a list of numbers assigned to a variable `number_list` in the code below that has been assigned a list of numbers. Run this cell before filling in the answers below."
   ]
  },
  {
   "cell_type": "code",
   "execution_count": 1,
   "metadata": {
    "tags": []
   },
   "outputs": [],
   "source": [
    "import random\n",
    "number_list = list(range(19))\n",
    "\n",
    "random.seed(1234)\n",
    "random.shuffle(number_list)"
   ]
  },
  {
   "cell_type": "code",
   "execution_count": 2,
   "metadata": {
    "tags": []
   },
   "outputs": [
    {
     "data": {
      "text/plain": [
       "[17, 15, 6, 4, 7, 11, 8, 5, 13, 1, 10, 16, 9, 12, 18, 2, 0, 3, 14]"
      ]
     },
     "execution_count": 2,
     "metadata": {},
     "output_type": "execute_result"
    }
   ],
   "source": [
    "number_list #rerun the above cell if you see a different output."
   ]
  },
  {
   "cell_type": "markdown",
   "metadata": {},
   "source": [
    "Write an expression in the cell below using square bracket index notation to get the 9th element of `number_list`, that is,  the number `1`, and display/print the result."
   ]
  },
  {
   "cell_type": "code",
   "execution_count": 4,
   "metadata": {
    "tags": []
   },
   "outputs": [
    {
     "name": "stdout",
     "output_type": "stream",
     "text": [
      "1\n"
     ]
    },
    {
     "data": {
      "text/plain": [
       "13"
      ]
     },
     "execution_count": 4,
     "metadata": {},
     "output_type": "execute_result"
    }
   ],
   "source": [
    "## provide your answer here\n",
    "print(number_list[9]) #9th index\n",
    "\n",
    "## provide your answer here\n",
    "number_list[8] #8th index"
   ]
  },
  {
   "cell_type": "markdown",
   "metadata": {},
   "source": [
    "Now write an expression to get numbers with odd index in the list (the right answer should be: [17, 15, 7, 11, 5, 13, 1, 9, 3]. "
   ]
  },
  {
   "cell_type": "markdown",
   "metadata": {},
   "source": [
    "The following expression:\n",
    "```python \n",
    "max(number_list)\n",
    "```\n",
    "... will print the largest value in number_list (i.e., 18). What value should be the variable index 'idx' in the code below so that the expression\n",
    "```python \n",
    "sorted(number_list)[idx]\n",
    "```\n",
    "... does the same thing. (i.e., when you run the cell, it should display 18.)  \n",
    "hint: the `idx` could be a **negative** integer."
   ]
  },
  {
   "cell_type": "code",
   "execution_count": 5,
   "metadata": {
    "tags": []
   },
   "outputs": [
    {
     "data": {
      "text/plain": [
       "18"
      ]
     },
     "execution_count": 5,
     "metadata": {},
     "output_type": "execute_result"
    }
   ],
   "source": [
    "idx = -1\n",
    "new_list = sorted(number_list)\n",
    "new_list[idx]"
   ]
  },
  {
   "cell_type": "markdown",
   "metadata": {},
   "source": [
    "## Problem 2: Slicing (0.5 point)\n",
    "Write an expression below that evaluates to a slice of number_list starting with its second element and ending with its tenth element (exclusive). i.e. the output should be [11, 8, 5, 13, 1]."
   ]
  },
  {
   "cell_type": "code",
   "execution_count": 6,
   "metadata": {
    "tags": []
   },
   "outputs": [
    {
     "data": {
      "text/plain": [
       "[11, 8, 5, 13, 1]"
      ]
     },
     "execution_count": 6,
     "metadata": {},
     "output_type": "execute_result"
    }
   ],
   "source": [
    "## provide your answer here\n",
    "number_list[5:10]"
   ]
  },
  {
   "cell_type": "markdown",
   "metadata": {},
   "source": [
    "Finally, fill in a value for the variable `idx` below so that the expression below it evaluates to a slice of `number_list` starting at the third last element and ending at the last element in the list. The expression should evaluate to `[0, 3, 14]`. hint: more than 1 solution is available, `idx` could be a **negative** integer."
   ]
  },
  {
   "cell_type": "code",
   "execution_count": 41,
   "metadata": {
    "tags": []
   },
   "outputs": [
    {
     "name": "stdout",
     "output_type": "stream",
     "text": [
      "[0, 3, 14]\n"
     ]
    }
   ],
   "source": [
    "idx = -3 # provide your answer here\n",
    "print (number_list[idx:])"
   ]
  },
  {
   "cell_type": "markdown",
   "metadata": {},
   "source": [
    "## Problem set 3: List Comprehensions (1 point)\n",
    "Comprehensions is very useful for **List operation** in real life data analysis and modeling tasks."
   ]
  },
  {
   "cell_type": "markdown",
   "metadata": {},
   "source": [
    "As dicussed in the class, the modulo or mod operator, %, returns the remainder of dividion. For example:"
   ]
  },
  {
   "cell_type": "code",
   "execution_count": 8,
   "metadata": {},
   "outputs": [
    {
     "name": "stdout",
     "output_type": "stream",
     "text": [
      "1\n"
     ]
    }
   ],
   "source": [
    "print( 22 % 3)"
   ]
  },
  {
   "cell_type": "markdown",
   "metadata": {},
   "source": [
    "This expression evaluates to 1 because the remainder of dividing 22 by 3 is 1. We then can use the modulo operator to test a number is even if the remainder is zero:"
   ]
  },
  {
   "cell_type": "markdown",
   "metadata": {},
   "source": [
    "Given the above information, write a list comprehension that outputs the elements with even index in `number_list`, that is [6, 4, 8, 10, 16, 12, 18, 2, 0, 14].   \n",
    "Use the modulo operator in the membership expression of the list comprehension.   \n",
    "The results should be a **list**    \n",
    "Hint: use `if` clause in the list comprehesion, Attention:This problem is for elements with selected INDEX, not element value!"
   ]
  },
  {
   "cell_type": "code",
   "execution_count": 7,
   "metadata": {
    "tags": []
   },
   "outputs": [
    {
     "data": {
      "text/plain": [
       "[6, 4, 8, 10, 16, 12, 18, 2, 0, 14]"
      ]
     },
     "execution_count": 7,
     "metadata": {},
     "output_type": "execute_result"
    }
   ],
   "source": [
    "# provide your answer here\n",
    "[i for i in number_list if i % 2 == 0]"
   ]
  },
  {
   "cell_type": "markdown",
   "metadata": {},
   "source": [
    "## Problem 4: Splitting strings (1 point)\n",
    "In the cell below, a variable `float_str` is set to a string containing a list of floating-point numbers, separated by semicolons (`;`). (Make sure to run this cell before you proceed, so that the variable will be available in subsequent cells.)"
   ]
  },
  {
   "cell_type": "code",
   "execution_count": 10,
   "metadata": {
    "tags": []
   },
   "outputs": [],
   "source": [
    "float_str = \"5.8;6.9;3.1;5.9;6.6;6.5;6.5;5.6;6;6.4;3.3;6.0;6.0;6.3;6.6;6.6\""
   ]
  },
  {
   "cell_type": "markdown",
   "metadata": {},
   "source": [
    "Write an expression below that splits and converts the string into a **`list` of floating**-point numbers. The type of the expression should return a list and the type of  elements in the list should be `float`. The expression should evaluate to something that looks like this:\n",
    "\n",
    "    [5.8, 6.9, 3.1, 5.9, 6.6, 6.5, 6.5, 5.6, 6.0, 6.4, 3.3, 6.0, 6.0, 6.3, 6.6, 6.6]\n",
    "\n",
    "(Hint: you can choose to use the `.split()` method to split the string by separator, then combined with list comprehension, make sure the type of elements are `float`. ) "
   ]
  },
  {
   "cell_type": "code",
   "execution_count": 11,
   "metadata": {
    "tags": []
   },
   "outputs": [],
   "source": [
    "float_lst = [float(i) for i in float_str.split(\";\")] # provide your answer here"
   ]
  },
  {
   "cell_type": "code",
   "execution_count": 12,
   "metadata": {
    "tags": []
   },
   "outputs": [
    {
     "name": "stdout",
     "output_type": "stream",
     "text": [
      "[5.8, 6.9, 3.1, 5.9, 6.6, 6.5, 6.5, 5.6, 6.0, 6.4, 3.3, 6.0, 6.0, 6.3, 6.6, 6.6]\n"
     ]
    }
   ],
   "source": [
    "print(float_lst)"
   ]
  },
  {
   "cell_type": "code",
   "execution_count": 7,
   "metadata": {
    "tags": []
   },
   "outputs": [
    {
     "data": {
      "text/plain": [
       "float"
      ]
     },
     "execution_count": 7,
     "metadata": {},
     "output_type": "execute_result"
    }
   ],
   "source": [
    "type(float_lst[-1])"
   ]
  },
  {
   "cell_type": "markdown",
   "metadata": {},
   "source": [
    "## Problem 5: IF statement (1 point)\n",
    "Jenny is trying to write a program for her youth club which asks the user to type in their age.  If the user’s age is between 10 and 14, then they are eligible to be members.  That means, a child who is **10, 11, 12, 13 or 14** can join. If they are not in this age range, they are not eligible to be members. Repalce the //# provide your answer here// with your code, make sure you run tests on both if is True and False conditions."
   ]
  },
  {
   "cell_type": "code",
   "execution_count": 13,
   "metadata": {
    "tags": []
   },
   "outputs": [
    {
     "name": "stdin",
     "output_type": "stream",
     "text": [
      "Enter your age please:  10\n"
     ]
    },
    {
     "name": "stdout",
     "output_type": "stream",
     "text": [
      "You can join the Youth Club!\n"
     ]
    }
   ],
   "source": [
    "#prompt for input \n",
    "try:\n",
    "    age = int(input('Enter your age please: '))\n",
    "    if (age >= 10) & (age <= 14):\n",
    "        print('You can join the Youth Club!')\n",
    "    else:\n",
    "        print('Sorry, you are not eligible to a member')\n",
    "except:\n",
    "    print('Please input an interger as age.')\n"
   ]
  },
  {
   "cell_type": "markdown",
   "metadata": {},
   "source": [
    "## Problem 6: Working with strings (1 point)\n",
    "In the cell below, there is a list of strings and assigned it to a variable `capitalize_me`."
   ]
  },
  {
   "cell_type": "code",
   "execution_count": 15,
   "metadata": {
    "tags": []
   },
   "outputs": [],
   "source": [
    "capitalize_lst = ['an abacus', 'bitter beefsteak', 'comfy culottes']"
   ]
  },
  {
   "cell_type": "markdown",
   "metadata": {},
   "source": [
    "define a function called `capitalize_me` to take `capitalize_lst` as input (provided above). The function will `return` a list as <br>\n",
    "    ['An abacus', 'Bitter beefsteak', 'Comfy culottes']\n",
    "\n",
    "Hint: you could use the combination of string slices and the `.upper()`, OR `.capitalize()` (or other of your choice) method inside the function.\n",
    "\n",
    "Here is an example of self-defined function:\n",
    "\n",
    "def my_func(a):\n",
    ">a_ = a.upper() <br>\n",
    ">return a_            "
   ]
  },
  {
   "cell_type": "code",
   "execution_count": 17,
   "metadata": {
    "tags": []
   },
   "outputs": [
    {
     "data": {
      "text/plain": [
       "['An abacus', 'Bitter beefsteak', 'Comfy culottes']"
      ]
     },
     "execution_count": 17,
     "metadata": {},
     "output_type": "execute_result"
    }
   ],
   "source": [
    "# provide your answer here\n",
    "[i.capitalize() for i in capitalize_lst]"
   ]
  }
 ],
 "metadata": {
  "kernelspec": {
   "display_name": "Python 3 (ipykernel)",
   "language": "python",
   "name": "python3"
  },
  "language_info": {
   "codemirror_mode": {
    "name": "ipython",
    "version": 3
   },
   "file_extension": ".py",
   "mimetype": "text/x-python",
   "name": "python",
   "nbconvert_exporter": "python",
   "pygments_lexer": "ipython3",
   "version": "3.11.5"
  }
 },
 "nbformat": 4,
 "nbformat_minor": 4
}
