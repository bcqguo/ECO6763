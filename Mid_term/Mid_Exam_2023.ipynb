{
 "cells": [
  {
   "cell_type": "markdown",
   "id": "574fc5a2-1f35-4876-8925-71885a3f0227",
   "metadata": {},
   "source": [
    "# ECO 6763: Python programming for Data Analytics\n",
    "\n",
    "Mid Exam (Oct 21st, Fall 2023)\n",
    "\n",
    "INSTRUCTIONS FOR STUDENTS:\n",
    "\n",
    "The open-book exam should be answered electronically in jupyter notebook. Students are required to finish the exam independently with limited access to 1) reference books, 2) class notes, and 3) google. Hard coding solution for any questions will not earn credit. "
   ]
  },
  {
   "cell_type": "code",
   "execution_count": 3,
   "id": "b5d19456-054e-4b4f-8b2c-285f068eeff7",
   "metadata": {
    "tags": []
   },
   "outputs": [],
   "source": [
    "import numpy as np\n",
    "import pandas as pd\n",
    "import matplotlib.pyplot as plt\n",
    "import seaborn as sns\n",
    "import statsmodels.api as sm\n",
    "import string"
   ]
  },
  {
   "cell_type": "markdown",
   "id": "7aab07cd-1f7d-4cc3-b978-3de553cadbe8",
   "metadata": {},
   "source": [
    "1.\t(1 point) Which names can serve as valid variable names in Python? \n",
    "\n",
    "(a) elif <br>\n",
    "(b) your_name <br> \n",
    "(c) 6sigma <br>\n",
    "(d) lambda <br>\n",
    "(e) pass <br>\n",
    "(f) _continue <br>"
   ]
  },
  {
   "cell_type": "code",
   "execution_count": 1,
   "id": "c83771f6-59dc-443e-acee-c1c697162559",
   "metadata": {
    "tags": []
   },
   "outputs": [],
   "source": [
    "#run this line with your input \n",
    "print(input(\"Please key in your answer(s) for Q1: \"))"
   ]
  },
  {
   "cell_type": "markdown",
   "id": "c181a482-1351-4794-b69e-d9d55a969f9a",
   "metadata": {},
   "source": [
    "2.\t(1 point) Let us have a = \"Eco6763\", Provide your code to reverse the numbers and letter in reverse order and return a single string as \"3676ocE\". hint: you can use \"\".join(list) to concatenante characters into a string without space."
   ]
  },
  {
   "cell_type": "code",
   "execution_count": 1,
   "id": "5a42bd11-78d2-4f9c-b030-a3d4c8aad75c",
   "metadata": {
    "tags": []
   },
   "outputs": [],
   "source": [
    "#Your code for Q-2\n",
    "a = \"Eco6763\"\n",
    "\n",
    "#your code here\n"
   ]
  },
  {
   "cell_type": "markdown",
   "id": "d5cb70fb-626e-4f8a-bbbc-8654cc88a8b2",
   "metadata": {},
   "source": [
    "3.\t(0.5 point) Given a numpy array of np.random.randint(0, 100, 100).reshape(4,25) with seed of 1234, use code to get the sliced element with index of (3,7)?"
   ]
  },
  {
   "cell_type": "code",
   "execution_count": 4,
   "id": "50140997-1b88-462b-981d-af674cdd4f33",
   "metadata": {
    "tags": []
   },
   "outputs": [
    {
     "data": {
      "text/plain": [
       "89"
      ]
     },
     "execution_count": 4,
     "metadata": {},
     "output_type": "execute_result"
    }
   ],
   "source": [
    "np.random.seed(1234)\n",
    "array = np.random.randint(0, 100, 100).reshape(4, 25)\n",
    "#your code here\n"
   ]
  },
  {
   "cell_type": "markdown",
   "id": "aa267e6f-f24c-4ecb-ab73-90aa2fd6e632",
   "metadata": {},
   "source": [
    "4. (1.5 point) define a function to get factorial of a non-negative integer, test it with input of 720 for 6!, \n",
    "* You need to consider special cases of 0 and 1, such as 1 for 0! and 1 for 1!. \n",
    "* You also need to check if the x is a negative value. \n",
    "* Do not use any pre-existing API function"
   ]
  },
  {
   "cell_type": "code",
   "execution_count": 9,
   "id": "0f60776b-7d05-4ca8-94e7-2ef44f498ad7",
   "metadata": {
    "tags": []
   },
   "outputs": [],
   "source": [
    "def shortFact1(x):\n",
    "    #your code here\n",
    "\n",
    "    \n",
    "    "
   ]
  },
  {
   "cell_type": "code",
   "execution_count": 10,
   "id": "b016be4d-5a0b-48b9-b88a-55ea72beb965",
   "metadata": {
    "tags": []
   },
   "outputs": [
    {
     "data": {
      "text/plain": [
       "720"
      ]
     },
     "execution_count": 10,
     "metadata": {},
     "output_type": "execute_result"
    }
   ],
   "source": [
    "shortFact1(6)"
   ]
  },
  {
   "cell_type": "code",
   "execution_count": 11,
   "id": "cde5c100-aa98-4867-ab15-0fb959530b3e",
   "metadata": {
    "tags": []
   },
   "outputs": [
    {
     "data": {
      "text/plain": [
       "1"
      ]
     },
     "execution_count": 11,
     "metadata": {},
     "output_type": "execute_result"
    }
   ],
   "source": [
    "shortFact1(0)"
   ]
  },
  {
   "cell_type": "code",
   "execution_count": 12,
   "id": "5f7e18d8-ba09-497f-93cf-6d44476be578",
   "metadata": {
    "tags": []
   },
   "outputs": [
    {
     "name": "stdout",
     "output_type": "stream",
     "text": [
      "please input a non-negative interger.\n"
     ]
    }
   ],
   "source": [
    "shortFact1(-1)"
   ]
  },
  {
   "cell_type": "markdown",
   "id": "b9d7fc1b-eef3-4d20-9de3-de985e7886e2",
   "metadata": {},
   "source": [
    "5. (1 point) Given a string \"apple, banana, cherry\", use code to split the string separated by \", \" and return 3 fruit names in string"
   ]
  },
  {
   "cell_type": "code",
   "execution_count": 5,
   "id": "b491ebaa-cca0-49f2-9f64-6d7612d95aa5",
   "metadata": {
    "tags": []
   },
   "outputs": [
    {
     "data": {
      "text/plain": [
       "['apple', 'banana', 'cherry']"
      ]
     },
     "execution_count": 5,
     "metadata": {},
     "output_type": "execute_result"
    }
   ],
   "source": [
    "fruits = \"apple, banana, cherry\"\n",
    "#your code here\n",
    "\n"
   ]
  },
  {
   "cell_type": "markdown",
   "id": "f1758deb-d57f-4037-9d4f-035bcab8638c",
   "metadata": {},
   "source": [
    "6. (1 point) use code count the upper case letters in a string \"We love Python\". *** Do not hard code the count!  *** \n",
    "* hint: you can compare  every character with it uppercase, be cautious: \" \" does not count.  The right output is 2, that is \"W\" and \"P\" only."
   ]
  },
  {
   "cell_type": "code",
   "execution_count": 8,
   "id": "8df7e6b3-5041-40e2-9c38-8638269c7b89",
   "metadata": {
    "tags": []
   },
   "outputs": [
    {
     "data": {
      "text/plain": [
       "2"
      ]
     },
     "execution_count": 8,
     "metadata": {},
     "output_type": "execute_result"
    }
   ],
   "source": [
    "string = \"We love Python\"\n",
    "#your code here\n",
    "\n"
   ]
  },
  {
   "cell_type": "markdown",
   "id": "6d841490-f6a7-4d75-9083-99504a01c0c6",
   "metadata": {},
   "source": [
    "7. (1 point) Given 2 list of numbers list1 = [1, 3, 6, 22, 35, 55] and list2 = [12, 24, 35, 24, 55, 120], use code to output the unique numbers in list2 but NOT in list1  "
   ]
  },
  {
   "cell_type": "code",
   "execution_count": 10,
   "id": "7ce54f13-bd11-4d1d-a83a-540425008604",
   "metadata": {
    "tags": []
   },
   "outputs": [
    {
     "data": {
      "text/plain": [
       "{1, 3, 6, 22}"
      ]
     },
     "execution_count": 10,
     "metadata": {},
     "output_type": "execute_result"
    }
   ],
   "source": [
    "list1 = [1, 3, 6, 22, 35, 55] \n",
    "list2 = [12, 24, 35, 24, 55, 120]\n",
    "#your code here\n",
    "\n"
   ]
  },
  {
   "cell_type": "markdown",
   "id": "8c7aa7b3-2ac0-473a-b455-b0b2cd2868a7",
   "metadata": {},
   "source": [
    "8. (0.5 point) Given a numpy array of `np.random.randn(100)` with seed of 1234, What is the sum of non-negative values?"
   ]
  },
  {
   "cell_type": "code",
   "execution_count": 11,
   "id": "a7855a89-4b5f-4f33-ab35-49a4743bdc0b",
   "metadata": {
    "tags": []
   },
   "outputs": [
    {
     "data": {
      "text/plain": [
       "39.714368245810974"
      ]
     },
     "execution_count": 11,
     "metadata": {},
     "output_type": "execute_result"
    }
   ],
   "source": [
    "np.random.seed(1234)\n",
    "arr = np.random.randn(100)\n",
    "#your code here\n"
   ]
  },
  {
   "cell_type": "markdown",
   "id": "028f553f-899d-4491-bf14-c4a1dd241cc4",
   "metadata": {},
   "source": [
    "9. (0.5 point) Given a numpy array of np.random.randn(100) with seed of 1234, How many values in the array are larger than 0?"
   ]
  },
  {
   "cell_type": "code",
   "execution_count": 13,
   "id": "f079a6b7-4e3b-44b8-bad6-0abd67947cb8",
   "metadata": {
    "tags": []
   },
   "outputs": [
    {
     "data": {
      "text/plain": [
       "57"
      ]
     },
     "execution_count": 13,
     "metadata": {},
     "output_type": "execute_result"
    }
   ],
   "source": [
    "np.random.seed(1234)\n",
    "arr = np.random.randn(100)\n",
    "#your code here\n",
    "\n"
   ]
  },
  {
   "cell_type": "markdown",
   "id": "db5808ca-1812-4e7f-8e28-899c3295a94c",
   "metadata": {},
   "source": [
    "10. (1 point) use for appropriate method to output odd numbers in `np.random.randint(0, 100, 20)` as a string with seed of 1234. "
   ]
  },
  {
   "cell_type": "code",
   "execution_count": 25,
   "id": "71c2cfcd-6f2b-4b97-a93e-9c8a982e435f",
   "metadata": {
    "tags": []
   },
   "outputs": [
    {
     "name": "stdout",
     "output_type": "stream",
     "text": [
      "[47 83 38 53 76 24 15 49 23 26 30 43 30 26 58 92 69 80 73 47]\n"
     ]
    },
    {
     "data": {
      "text/plain": [
       "[47, 83, 53, 15, 49, 23, 43, 69, 73, 47]"
      ]
     },
     "execution_count": 25,
     "metadata": {},
     "output_type": "execute_result"
    }
   ],
   "source": [
    "np.random.seed(1234)\n",
    "lst_in = np.random.randint(0, 100, 20)\n",
    "print(lst_in)\n",
    "\n",
    "#your code here\n"
   ]
  },
  {
   "cell_type": "markdown",
   "id": "856646bc-80d9-4c85-9481-14b469ea7db8",
   "metadata": {},
   "source": [
    "11. (0.5 point) \n",
    "\n",
    "Given x = 5; y = x; x = y + 3, what is x at the end? \n",
    "\n",
    "Choices: <br>\n",
    "(a) 5 <br>\n",
    "(b) 3 <br>\n",
    "(c) 8 <br>\n",
    "(d) 11 "
   ]
  },
  {
   "cell_type": "code",
   "execution_count": null,
   "id": "8ed909fb-5dd5-4213-acd7-065603130ca9",
   "metadata": {
    "tags": []
   },
   "outputs": [],
   "source": [
    "print(input(\"Please key in your answer(s) for Q11: \"))"
   ]
  },
  {
   "cell_type": "code",
   "execution_count": null,
   "id": "28420455-0fdd-485d-80b2-1e21576f9054",
   "metadata": {},
   "outputs": [],
   "source": []
  },
  {
   "cell_type": "markdown",
   "id": "75ff3e63-4d64-4b75-8de4-fe11de223928",
   "metadata": {},
   "source": [
    "12 (1 point) Given 2 lists of data named lst1 and lst2, concatenate pairwise elements with \":\", 1 from each lst1 and the other from lst2.  hint: you could use for-loop to loop over each element in the lists with the same index. Since the each element in the lists are integers, you also need to covnert it str before you paste them together with \":\" "
   ]
  },
  {
   "cell_type": "code",
   "execution_count": 4,
   "id": "617c68c5-e6ba-4958-aeda-4f1c081bfe6e",
   "metadata": {
    "tags": []
   },
   "outputs": [
    {
     "name": "stdout",
     "output_type": "stream",
     "text": [
      "[15 19  6 12 15 17  9 11 12 16]\n",
      "[13  2  2  6 17 19 10  1  0 17]\n"
     ]
    }
   ],
   "source": [
    "np.random.seed(1234)\n",
    "lst1 = np.random.randint(0, 20, size = 10)\n",
    "print(lst1)\n",
    "np.random.seed(123)\n",
    "lst2 = np.random.randint(0, 20, size = 10)\n",
    "print(lst2)"
   ]
  },
  {
   "cell_type": "code",
   "execution_count": 7,
   "id": "3d2c3958-873c-4483-9046-3dd8bc717ad0",
   "metadata": {
    "tags": []
   },
   "outputs": [],
   "source": [
    "#your code here\n",
    "\n",
    "\n"
   ]
  },
  {
   "cell_type": "code",
   "execution_count": 9,
   "id": "b3c9b862-407a-4e9d-b303-aa95bbc5df70",
   "metadata": {
    "tags": []
   },
   "outputs": [
    {
     "name": "stdout",
     "output_type": "stream",
     "text": [
      "['15:13', '19:2', '6:2', '12:6', '15:17', '17:19', '9:10', '11:1', '12:0', '16:17']\n"
     ]
    }
   ],
   "source": [
    "#example output\n",
    "print(zip_lst)"
   ]
  },
  {
   "cell_type": "markdown",
   "id": "2075c6df-6983-4428-a43b-2ff107f51987",
   "metadata": {},
   "source": [
    "13 (0.5 point) Given np array a and b as below, use code to check how many pairwide elements are the same"
   ]
  },
  {
   "cell_type": "code",
   "execution_count": 40,
   "id": "84a3275a-736f-4708-bd8d-61393da44c18",
   "metadata": {
    "tags": []
   },
   "outputs": [],
   "source": [
    "a = np.array(list(range(6)))\n",
    "b = np.array(list(range(6,0, -1)))"
   ]
  },
  {
   "cell_type": "code",
   "execution_count": 42,
   "id": "acbf7706-d0d1-4c55-ab61-224cfc3a08d7",
   "metadata": {
    "tags": []
   },
   "outputs": [
    {
     "data": {
      "text/plain": [
       "1"
      ]
     },
     "execution_count": 42,
     "metadata": {},
     "output_type": "execute_result"
    }
   ],
   "source": [
    "#your code here\n"
   ]
  },
  {
   "cell_type": "markdown",
   "id": "4c1e36d4-813e-416d-8175-97eeb3c2f244",
   "metadata": {},
   "source": [
    "## Q14-18 will use date as sns.load_dataset(\"penguins\") as input"
   ]
  },
  {
   "cell_type": "code",
   "execution_count": 10,
   "id": "f322faf0-9bdf-4260-8474-3fa556a07ceb",
   "metadata": {
    "tags": []
   },
   "outputs": [],
   "source": [
    "#get penguins df sns pacakge\n",
    "penguins = sns.load_dataset(\"penguins\") "
   ]
  },
  {
   "cell_type": "code",
   "execution_count": 45,
   "id": "e59d5e40-7d8d-4fe4-9915-1ddd217ae63e",
   "metadata": {
    "tags": []
   },
   "outputs": [
    {
     "data": {
      "text/html": [
       "<div>\n",
       "<style scoped>\n",
       "    .dataframe tbody tr th:only-of-type {\n",
       "        vertical-align: middle;\n",
       "    }\n",
       "\n",
       "    .dataframe tbody tr th {\n",
       "        vertical-align: top;\n",
       "    }\n",
       "\n",
       "    .dataframe thead th {\n",
       "        text-align: right;\n",
       "    }\n",
       "</style>\n",
       "<table border=\"1\" class=\"dataframe\">\n",
       "  <thead>\n",
       "    <tr style=\"text-align: right;\">\n",
       "      <th></th>\n",
       "      <th>species</th>\n",
       "      <th>island</th>\n",
       "      <th>bill_length_mm</th>\n",
       "      <th>bill_depth_mm</th>\n",
       "      <th>flipper_length_mm</th>\n",
       "      <th>body_mass_g</th>\n",
       "      <th>sex</th>\n",
       "    </tr>\n",
       "  </thead>\n",
       "  <tbody>\n",
       "    <tr>\n",
       "      <th>0</th>\n",
       "      <td>Adelie</td>\n",
       "      <td>Torgersen</td>\n",
       "      <td>39.1</td>\n",
       "      <td>18.7</td>\n",
       "      <td>181.0</td>\n",
       "      <td>3750.0</td>\n",
       "      <td>Male</td>\n",
       "    </tr>\n",
       "    <tr>\n",
       "      <th>1</th>\n",
       "      <td>Adelie</td>\n",
       "      <td>Torgersen</td>\n",
       "      <td>39.5</td>\n",
       "      <td>17.4</td>\n",
       "      <td>186.0</td>\n",
       "      <td>3800.0</td>\n",
       "      <td>Female</td>\n",
       "    </tr>\n",
       "    <tr>\n",
       "      <th>2</th>\n",
       "      <td>Adelie</td>\n",
       "      <td>Torgersen</td>\n",
       "      <td>40.3</td>\n",
       "      <td>18.0</td>\n",
       "      <td>195.0</td>\n",
       "      <td>3250.0</td>\n",
       "      <td>Female</td>\n",
       "    </tr>\n",
       "    <tr>\n",
       "      <th>3</th>\n",
       "      <td>Adelie</td>\n",
       "      <td>Torgersen</td>\n",
       "      <td>NaN</td>\n",
       "      <td>NaN</td>\n",
       "      <td>NaN</td>\n",
       "      <td>NaN</td>\n",
       "      <td>NaN</td>\n",
       "    </tr>\n",
       "    <tr>\n",
       "      <th>4</th>\n",
       "      <td>Adelie</td>\n",
       "      <td>Torgersen</td>\n",
       "      <td>36.7</td>\n",
       "      <td>19.3</td>\n",
       "      <td>193.0</td>\n",
       "      <td>3450.0</td>\n",
       "      <td>Female</td>\n",
       "    </tr>\n",
       "  </tbody>\n",
       "</table>\n",
       "</div>"
      ],
      "text/plain": [
       "  species     island  bill_length_mm  bill_depth_mm  flipper_length_mm  \\\n",
       "0  Adelie  Torgersen            39.1           18.7              181.0   \n",
       "1  Adelie  Torgersen            39.5           17.4              186.0   \n",
       "2  Adelie  Torgersen            40.3           18.0              195.0   \n",
       "3  Adelie  Torgersen             NaN            NaN                NaN   \n",
       "4  Adelie  Torgersen            36.7           19.3              193.0   \n",
       "\n",
       "   body_mass_g     sex  \n",
       "0       3750.0    Male  \n",
       "1       3800.0  Female  \n",
       "2       3250.0  Female  \n",
       "3          NaN     NaN  \n",
       "4       3450.0  Female  "
      ]
     },
     "execution_count": 45,
     "metadata": {},
     "output_type": "execute_result"
    }
   ],
   "source": [
    "penguins.head()"
   ]
  },
  {
   "cell_type": "markdown",
   "id": "946ab93d-c693-4bb4-af5a-cbb39acc5334",
   "metadata": {},
   "source": [
    "14. (0.5 point) with penguins data, use code to check how many unique species of penguins in the data set using `species` column."
   ]
  },
  {
   "cell_type": "code",
   "execution_count": 46,
   "id": "0e21d9fa-7324-4697-9468-66ff97b98eef",
   "metadata": {
    "tags": []
   },
   "outputs": [
    {
     "data": {
      "text/plain": [
       "array(['Adelie', 'Chinstrap', 'Gentoo'], dtype=object)"
      ]
     },
     "execution_count": 46,
     "metadata": {},
     "output_type": "execute_result"
    }
   ],
   "source": [
    "#your code here\n",
    "\n"
   ]
  },
  {
   "cell_type": "markdown",
   "id": "3b7f3083-98b5-47a0-b2ec-6aefb27fb24d",
   "metadata": {},
   "source": [
    "15. (point 1) with penguins data, use code to check the count of sex by species. Hint: use .groupby()"
   ]
  },
  {
   "cell_type": "code",
   "execution_count": 48,
   "id": "eb7c6f7c-14fb-4277-9df8-4768d3191a72",
   "metadata": {
    "tags": []
   },
   "outputs": [
    {
     "data": {
      "text/plain": [
       "species    sex   \n",
       "Adelie     Female    73\n",
       "           Male      73\n",
       "Chinstrap  Female    34\n",
       "           Male      34\n",
       "Gentoo     Female    58\n",
       "           Male      61\n",
       "dtype: int64"
      ]
     },
     "execution_count": 48,
     "metadata": {},
     "output_type": "execute_result"
    }
   ],
   "source": [
    "#your code here\n",
    "\n"
   ]
  },
  {
   "cell_type": "markdown",
   "id": "d1d303e5-61a2-4420-86f9-6750c689e5fb",
   "metadata": {},
   "source": [
    "16. (point 1) With penguins data, use copde to check how many missing data in the data, you can use .isnull() plus .sum() to get the missing counts"
   ]
  },
  {
   "cell_type": "code",
   "execution_count": 50,
   "id": "0bc1ebed-ade9-4b3a-a130-bdb2f48e65cc",
   "metadata": {
    "tags": []
   },
   "outputs": [
    {
     "data": {
      "text/plain": [
       "species               0\n",
       "island                0\n",
       "bill_length_mm        2\n",
       "bill_depth_mm         2\n",
       "flipper_length_mm     2\n",
       "body_mass_g           2\n",
       "sex                  11\n",
       "dtype: int64"
      ]
     },
     "execution_count": 50,
     "metadata": {},
     "output_type": "execute_result"
    }
   ],
   "source": [
    "#your code here\n",
    "\n",
    "\n"
   ]
  },
  {
   "cell_type": "markdown",
   "id": "fb64fc64-c6ec-47fe-a1c8-7a6a8c06753a",
   "metadata": {},
   "source": [
    "17. (point 1) with penguins data, slice rows satisfying body_mass_g larger than 6000 and species is not \"Adelie\""
   ]
  },
  {
   "cell_type": "code",
   "execution_count": 52,
   "id": "ad718a8c-a21e-4868-bb91-66aa364b274a",
   "metadata": {
    "tags": []
   },
   "outputs": [
    {
     "data": {
      "text/html": [
       "<div>\n",
       "<style scoped>\n",
       "    .dataframe tbody tr th:only-of-type {\n",
       "        vertical-align: middle;\n",
       "    }\n",
       "\n",
       "    .dataframe tbody tr th {\n",
       "        vertical-align: top;\n",
       "    }\n",
       "\n",
       "    .dataframe thead th {\n",
       "        text-align: right;\n",
       "    }\n",
       "</style>\n",
       "<table border=\"1\" class=\"dataframe\">\n",
       "  <thead>\n",
       "    <tr style=\"text-align: right;\">\n",
       "      <th></th>\n",
       "      <th>species</th>\n",
       "      <th>island</th>\n",
       "      <th>bill_length_mm</th>\n",
       "      <th>bill_depth_mm</th>\n",
       "      <th>flipper_length_mm</th>\n",
       "      <th>body_mass_g</th>\n",
       "      <th>sex</th>\n",
       "    </tr>\n",
       "  </thead>\n",
       "  <tbody>\n",
       "    <tr>\n",
       "      <th>237</th>\n",
       "      <td>Gentoo</td>\n",
       "      <td>Biscoe</td>\n",
       "      <td>49.2</td>\n",
       "      <td>15.2</td>\n",
       "      <td>221.0</td>\n",
       "      <td>6300.0</td>\n",
       "      <td>Male</td>\n",
       "    </tr>\n",
       "    <tr>\n",
       "      <th>253</th>\n",
       "      <td>Gentoo</td>\n",
       "      <td>Biscoe</td>\n",
       "      <td>59.6</td>\n",
       "      <td>17.0</td>\n",
       "      <td>230.0</td>\n",
       "      <td>6050.0</td>\n",
       "      <td>Male</td>\n",
       "    </tr>\n",
       "  </tbody>\n",
       "</table>\n",
       "</div>"
      ],
      "text/plain": [
       "    species  island  bill_length_mm  bill_depth_mm  flipper_length_mm  \\\n",
       "237  Gentoo  Biscoe            49.2           15.2              221.0   \n",
       "253  Gentoo  Biscoe            59.6           17.0              230.0   \n",
       "\n",
       "     body_mass_g   sex  \n",
       "237       6300.0  Male  \n",
       "253       6050.0  Male  "
      ]
     },
     "execution_count": 52,
     "metadata": {},
     "output_type": "execute_result"
    }
   ],
   "source": [
    "#your code here\n",
    "\n",
    "\n"
   ]
  },
  {
   "cell_type": "markdown",
   "id": "fc196d6d-d9ea-41d3-b112-679aa0a94b29",
   "metadata": {},
   "source": [
    "18 (point 1) with random tempreture of `np.random.uniform(-20, 0, len(penguins))`, merge the tempreture data to the penguins data with name of `tempreture`, and print the first 3 rows. \n",
    "\n",
    "hint: use new column assignment or `.insert()` or new columns assignment"
   ]
  },
  {
   "cell_type": "code",
   "execution_count": 53,
   "id": "6d16fa52-8869-4044-aa4e-5b04b91ac849",
   "metadata": {
    "tags": []
   },
   "outputs": [
    {
     "data": {
      "text/html": [
       "<div>\n",
       "<style scoped>\n",
       "    .dataframe tbody tr th:only-of-type {\n",
       "        vertical-align: middle;\n",
       "    }\n",
       "\n",
       "    .dataframe tbody tr th {\n",
       "        vertical-align: top;\n",
       "    }\n",
       "\n",
       "    .dataframe thead th {\n",
       "        text-align: right;\n",
       "    }\n",
       "</style>\n",
       "<table border=\"1\" class=\"dataframe\">\n",
       "  <thead>\n",
       "    <tr style=\"text-align: right;\">\n",
       "      <th></th>\n",
       "      <th>species</th>\n",
       "      <th>island</th>\n",
       "      <th>bill_length_mm</th>\n",
       "      <th>bill_depth_mm</th>\n",
       "      <th>flipper_length_mm</th>\n",
       "      <th>body_mass_g</th>\n",
       "      <th>sex</th>\n",
       "      <th>tempreture</th>\n",
       "    </tr>\n",
       "  </thead>\n",
       "  <tbody>\n",
       "    <tr>\n",
       "      <th>0</th>\n",
       "      <td>Adelie</td>\n",
       "      <td>Torgersen</td>\n",
       "      <td>39.1</td>\n",
       "      <td>18.7</td>\n",
       "      <td>181.0</td>\n",
       "      <td>3750.0</td>\n",
       "      <td>Male</td>\n",
       "      <td>-16.169611</td>\n",
       "    </tr>\n",
       "    <tr>\n",
       "      <th>1</th>\n",
       "      <td>Adelie</td>\n",
       "      <td>Torgersen</td>\n",
       "      <td>39.5</td>\n",
       "      <td>17.4</td>\n",
       "      <td>186.0</td>\n",
       "      <td>3800.0</td>\n",
       "      <td>Female</td>\n",
       "      <td>-7.557825</td>\n",
       "    </tr>\n",
       "    <tr>\n",
       "      <th>2</th>\n",
       "      <td>Adelie</td>\n",
       "      <td>Torgersen</td>\n",
       "      <td>40.3</td>\n",
       "      <td>18.0</td>\n",
       "      <td>195.0</td>\n",
       "      <td>3250.0</td>\n",
       "      <td>Female</td>\n",
       "      <td>-11.245445</td>\n",
       "    </tr>\n",
       "  </tbody>\n",
       "</table>\n",
       "</div>"
      ],
      "text/plain": [
       "  species     island  bill_length_mm  bill_depth_mm  flipper_length_mm  \\\n",
       "0  Adelie  Torgersen            39.1           18.7              181.0   \n",
       "1  Adelie  Torgersen            39.5           17.4              186.0   \n",
       "2  Adelie  Torgersen            40.3           18.0              195.0   \n",
       "\n",
       "   body_mass_g     sex  tempreture  \n",
       "0       3750.0    Male  -16.169611  \n",
       "1       3800.0  Female   -7.557825  \n",
       "2       3250.0  Female  -11.245445  "
      ]
     },
     "execution_count": 53,
     "metadata": {},
     "output_type": "execute_result"
    }
   ],
   "source": [
    "#your code here\n",
    "\n",
    "\n"
   ]
  },
  {
   "cell_type": "markdown",
   "id": "2ef7246a-4cda-4d90-a72c-50f943a38ded",
   "metadata": {},
   "source": [
    "## Question 18-21 will be on  data visualization "
   ]
  },
  {
   "cell_type": "markdown",
   "id": "7e3f9f07-b46e-468d-a226-1324e0a240a0",
   "metadata": {},
   "source": [
    "19 (point 1) with input of  `x = np.linspace(-1.5, 1.5, 50); y = x ** 2`, plot line of x, and y with the title of `\"Square Fucntion\"` "
   ]
  },
  {
   "cell_type": "code",
   "execution_count": 54,
   "id": "b5b5c8b0-ecda-48d7-b813-7359df85dd62",
   "metadata": {
    "tags": []
   },
   "outputs": [
    {
     "data": {
      "text/plain": [
       "Text(0.5, 1.0, 'Square Function')"
      ]
     },
     "execution_count": 54,
     "metadata": {},
     "output_type": "execute_result"
    },
    {
     "data": {
      "image/png": "[encoded data removed]",
      "text/plain": [
       "<Figure size 640x480 with 1 Axes>"
      ]
     },
     "metadata": {},
     "output_type": "display_data"
    }
   ],
   "source": [
    "#your code here\n"
   ]
  },
  {
   "cell_type": "markdown",
   "id": "1f247072-b533-490f-bf0f-b80d4fe2a9be",
   "metadata": {},
   "source": [
    "20 (point 1) add horzental line y = 1 in red and vertical line x = 0 in blue to the plt in Q16, \n",
    "hint: if you use plt, you need to define min and max of x-axis and y-axis with `.hlines()` and `vlines()`"
   ]
  },
  {
   "cell_type": "code",
   "execution_count": 58,
   "id": "63f50c4b-ddbb-4f7a-8f4c-c3386755a1c3",
   "metadata": {
    "tags": []
   },
   "outputs": [
    {
     "data": {
      "text/plain": [
       "<matplotlib.collections.LineCollection at 0x7f1781ad1810>"
      ]
     },
     "execution_count": 58,
     "metadata": {},
     "output_type": "execute_result"
    },
    {
     "data": {
      "image/png": "[encoded data removed]",
      "text/plain": [
       "<Figure size 640x480 with 1 Axes>"
      ]
     },
     "metadata": {},
     "output_type": "display_data"
    }
   ],
   "source": [
    "#your code here\n",
    "\n"
   ]
  },
  {
   "cell_type": "markdown",
   "id": "6ce01013-d510-4f7e-b269-f1a76a85143f",
   "metadata": {},
   "source": [
    "21 (point 1) with input of  x = np.linspace(-1.5, 1.5, 50); y1 = x ** 2; y2 = x **3, plot line of x, y1 and y2 in a grid of 2 rows and 1 column\n",
    "\n",
    "hint: you can use either `implicit` or `explicit` to get the plot"
   ]
  },
  {
   "cell_type": "code",
   "execution_count": 60,
   "id": "731dcd49-6f15-405e-8c68-327320c49a1d",
   "metadata": {
    "tags": []
   },
   "outputs": [
    {
     "data": {
      "text/plain": [
       "[<matplotlib.lines.Line2D at 0x7f17818f4990>]"
      ]
     },
     "execution_count": 60,
     "metadata": {},
     "output_type": "execute_result"
    },
    {
     "data": {
      "image/png": "[encoded data removed]",
      "text/plain": [
       "<Figure size 640x480 with 2 Axes>"
      ]
     },
     "metadata": {},
     "output_type": "display_data"
    }
   ],
   "source": [
    "#your code here\n"
   ]
  },
  {
   "cell_type": "markdown",
   "id": "07afe952-4755-4037-9540-0ac8fceca571",
   "metadata": {},
   "source": [
    "22 (point 1) use `bill_length_mm`, \t`bill_depth_mm`, `flipper_length_mm`, `body_mass_g` from  penguins dataframe, get coorelation matrix of these 4 columns and plot heatmap of coorrelaton matrix with annotation"
   ]
  },
  {
   "cell_type": "code",
   "execution_count": 25,
   "id": "3a899351-22bc-4be9-abf6-a6baa1e85653",
   "metadata": {
    "tags": []
   },
   "outputs": [
    {
     "data": {
      "text/plain": [
       "<Axes: >"
      ]
     },
     "execution_count": 25,
     "metadata": {},
     "output_type": "execute_result"
    },
    {
     "data": {
      "image/png": "[encoded data removed]",
      "text/plain": [
       "<Figure size 640x480 with 2 Axes>"
      ]
     },
     "metadata": {},
     "output_type": "display_data"
    }
   ],
   "source": [
    "#your code here\n",
    "\n"
   ]
  },
  {
   "cell_type": "markdown",
   "id": "79ba483f-0729-46e0-8109-6ed0ea54390c",
   "metadata": {},
   "source": [
    "# Q23 will be on data export and operation system command"
   ]
  },
  {
   "cell_type": "markdown",
   "id": "e2485860-02af-4af9-bf45-681bf5171023",
   "metadata": {},
   "source": [
    "23 point(0.5) save the `penguins` dataframe to a csv file named `penguins.csv` in current working path and use propriate method to check the csv file"
   ]
  },
  {
   "cell_type": "code",
   "execution_count": 61,
   "id": "80f3d4e8-b414-405f-b170-fa93748bb050",
   "metadata": {
    "tags": []
   },
   "outputs": [],
   "source": [
    "# export penguins df to \"penguins.csv\"\n",
    "#your code here\n",
    "\n"
   ]
  },
  {
   "cell_type": "code",
   "execution_count": 62,
   "id": "51ffc7df-0d94-495c-88ff-8f8ff04bcb7f",
   "metadata": {
    "tags": []
   },
   "outputs": [
    {
     "data": {
      "text/plain": [
       "True"
      ]
     },
     "execution_count": 62,
     "metadata": {},
     "output_type": "execute_result"
    }
   ],
   "source": [
    "#check if \"penguins.csv\" is in the current working path\n",
    "#your code here\n",
    "\n"
   ]
  }
 ],
 "metadata": {
  "kernelspec": {
   "display_name": "Python 3 (ipykernel)",
   "language": "python",
   "name": "python3"
  },
  "language_info": {
   "codemirror_mode": {
    "name": "ipython",
    "version": 3
   },
   "file_extension": ".py",
   "mimetype": "text/x-python",
   "name": "python",
   "nbconvert_exporter": "python",
   "pygments_lexer": "ipython3",
   "version": "3.11.5"
  }
 },
 "nbformat": 4,
 "nbformat_minor": 5
}
