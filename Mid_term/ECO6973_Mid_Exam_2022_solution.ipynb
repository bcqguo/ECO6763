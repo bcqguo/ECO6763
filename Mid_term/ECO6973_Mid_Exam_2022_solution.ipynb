{
 "cells": [
  {
   "cell_type": "markdown",
   "id": "574fc5a2-1f35-4876-8925-71885a3f0227",
   "metadata": {},
   "source": [
    "ECO6973 ST: Data Analytics in Python\n",
    " Mid Exam (Fall 2020)\n",
    "\n",
    "INSTRUCTIONS FOR STUDENTS:\n",
    "\n",
    "The open-book exam should be answered electronically in jupyter notebook. Students are required to finish the exam independently with access to 1) Computer; 2) reference books, 3) class notes; 4)  internet access"
   ]
  },
  {
   "cell_type": "code",
   "execution_count": 3,
   "id": "b5d19456-054e-4b4f-8b2c-285f068eeff7",
   "metadata": {},
   "outputs": [],
   "source": [
    "import numpy as np\n",
    "import pandas as pd\n",
    "import matplotlib.pyplot as plt\n",
    "import seaborn as sns\n",
    "import statsmodels.api as sm"
   ]
  },
  {
   "cell_type": "markdown",
   "id": "7aab07cd-1f7d-4cc3-b978-3de553cadbe8",
   "metadata": {},
   "source": [
    "1.\t(1 point) Which names can serve as valid variable names in Python? \n",
    "\n",
    "a – elif <br>\n",
    "b - your_name <br> \n",
    "c - 6sigma <br>\n",
    "d – lambda <br>\n",
    "e - pass <br>\n",
    "f - _continue <br>"
   ]
  },
  {
   "cell_type": "code",
   "execution_count": 4,
   "id": "c83771f6-59dc-443e-acee-c1c697162559",
   "metadata": {},
   "outputs": [
    {
     "name": "stdin",
     "output_type": "stream",
     "text": [
      "Please key in your answer:  b,f\n"
     ]
    },
    {
     "data": {
      "text/plain": [
       "'b,f'"
      ]
     },
     "execution_count": 4,
     "metadata": {},
     "output_type": "execute_result"
    }
   ],
   "source": [
    "input(\"Please key in your answer(s) : \")"
   ]
  },
  {
   "cell_type": "markdown",
   "id": "c181a482-1351-4794-b69e-d9d55a969f9a",
   "metadata": {},
   "source": [
    "2.\t(1 point) Let us have a = \"Eco6973\", Provide your code to reverse the numbers and letter in reverse order and return \"3796ocE\". hint: you can use \"\".join(list) to concatenante characters into a string without space."
   ]
  },
  {
   "cell_type": "code",
   "execution_count": 6,
   "id": "5a42bd11-78d2-4f9c-b030-a3d4c8aad75c",
   "metadata": {},
   "outputs": [
    {
     "data": {
      "text/plain": [
       "'3796ocE'"
      ]
     },
     "execution_count": 6,
     "metadata": {},
     "output_type": "execute_result"
    }
   ],
   "source": [
    "#Your code for Q-2\n",
    "a = \"Eco6973\"\n",
    "\"\".join(list(a)[::-1])"
   ]
  },
  {
   "cell_type": "markdown",
   "id": "d5cb70fb-626e-4f8a-bbbc-8654cc88a8b2",
   "metadata": {},
   "source": [
    "3.\t(1 point) Given a numpy array of np.random.randint(0, 100, 100).reshape(4,25) with seed of 1234, What is the sliced element with index of (3,7)?"
   ]
  },
  {
   "cell_type": "code",
   "execution_count": 10,
   "id": "50140997-1b88-462b-981d-af674cdd4f33",
   "metadata": {},
   "outputs": [
    {
     "data": {
      "text/plain": [
       "89"
      ]
     },
     "execution_count": 10,
     "metadata": {},
     "output_type": "execute_result"
    }
   ],
   "source": [
    "np.random.seed(1234)\n",
    "np.random.randint(0, 100, 100).reshape(4, 25)[3,7]"
   ]
  },
  {
   "cell_type": "markdown",
   "id": "aa267e6f-f24c-4ecb-ab73-90aa2fd6e632",
   "metadata": {},
   "source": [
    "4. (1 point) define a function to get factorial of a non-negative integer, adn test it with input of 6."
   ]
  },
  {
   "cell_type": "code",
   "execution_count": 13,
   "id": "0f60776b-7d05-4ca8-94e7-2ef44f498ad7",
   "metadata": {},
   "outputs": [],
   "source": [
    "def shortFact1(x):\n",
    "    out = 1 if x <= 1 else x * shortFact1(x - 1)\n",
    "    return out "
   ]
  },
  {
   "cell_type": "code",
   "execution_count": 14,
   "id": "b016be4d-5a0b-48b9-b88a-55ea72beb965",
   "metadata": {},
   "outputs": [
    {
     "data": {
      "text/plain": [
       "720"
      ]
     },
     "execution_count": 14,
     "metadata": {},
     "output_type": "execute_result"
    }
   ],
   "source": [
    "shortFact1(6)"
   ]
  },
  {
   "cell_type": "markdown",
   "id": "b9d7fc1b-eef3-4d20-9de3-de985e7886e2",
   "metadata": {},
   "source": [
    "5. (1 point) Given a string \"apple, banana, cherry\", use code to split the string separated by \", \" and out 3 fruit names  "
   ]
  },
  {
   "cell_type": "code",
   "execution_count": 28,
   "id": "b491ebaa-cca0-49f2-9f64-6d7612d95aa5",
   "metadata": {},
   "outputs": [
    {
     "data": {
      "text/plain": [
       "['apple', 'banana', 'cherry']"
      ]
     },
     "execution_count": 28,
     "metadata": {},
     "output_type": "execute_result"
    }
   ],
   "source": [
    "fruits = \"apple, banana, cherry\"\n",
    "fruits.split(\", \")"
   ]
  },
  {
   "cell_type": "markdown",
   "id": "f1758deb-d57f-4037-9d4f-035bcab8638c",
   "metadata": {},
   "source": [
    "6. (1 point) use code count the upper case letters in a string \"We love Python\". Do not hard code the count!   "
   ]
  },
  {
   "cell_type": "code",
   "execution_count": 34,
   "id": "8df7e6b3-5041-40e2-9c38-8638269c7b89",
   "metadata": {},
   "outputs": [
    {
     "data": {
      "text/plain": [
       "2"
      ]
     },
     "execution_count": 34,
     "metadata": {},
     "output_type": "execute_result"
    }
   ],
   "source": [
    "sum([i.isupper() for i in list(\"We love Python\")])"
   ]
  },
  {
   "cell_type": "markdown",
   "id": "6d841490-f6a7-4d75-9083-99504a01c0c6",
   "metadata": {},
   "source": [
    "7. (1 point) Given 2 list of numbers list1 = [1, 3, 6, 22, 35, 55] and list2 = [12, 24, 35, 24, 55, 120], use code to output unique numbers in list2 but not list1  "
   ]
  },
  {
   "cell_type": "code",
   "execution_count": 37,
   "id": "7ce54f13-bd11-4d1d-a83a-540425008604",
   "metadata": {},
   "outputs": [
    {
     "data": {
      "text/plain": [
       "{12, 24, 120}"
      ]
     },
     "execution_count": 37,
     "metadata": {},
     "output_type": "execute_result"
    }
   ],
   "source": [
    "list1 = [1, 3, 6, 22, 35, 55] \n",
    "list2 = [12, 24, 35, 24, 55, 120]\n",
    "set1 = set(list1)\n",
    "set2 = set(list2)\n",
    "set2 - set1"
   ]
  },
  {
   "cell_type": "markdown",
   "id": "8c7aa7b3-2ac0-473a-b455-b0b2cd2868a7",
   "metadata": {},
   "source": [
    "8. (1 point) Given a numpy array of np.random.randn(100) with seed of 1234, What is the sum of non-negative values?"
   ]
  },
  {
   "cell_type": "code",
   "execution_count": 16,
   "id": "a7855a89-4b5f-4f33-ab35-49a4743bdc0b",
   "metadata": {},
   "outputs": [
    {
     "data": {
      "text/plain": [
       "39.714368245810974"
      ]
     },
     "execution_count": 16,
     "metadata": {},
     "output_type": "execute_result"
    }
   ],
   "source": [
    "np.random.seed(1234)\n",
    "sum([i for i in np.random.randn(100) if i >= 0])"
   ]
  },
  {
   "cell_type": "markdown",
   "id": "028f553f-899d-4491-bf14-c4a1dd241cc4",
   "metadata": {},
   "source": [
    "9. (point 1) Given a numpy array of np.random.randn(100) with seed of 1234, How many values in the array larget than 0?"
   ]
  },
  {
   "cell_type": "code",
   "execution_count": 30,
   "id": "f079a6b7-4e3b-44b8-bad6-0abd67947cb8",
   "metadata": {},
   "outputs": [
    {
     "data": {
      "text/plain": [
       "57"
      ]
     },
     "execution_count": 30,
     "metadata": {},
     "output_type": "execute_result"
    }
   ],
   "source": [
    "np.random.seed(1234)\n",
    "sum([True for i in np.random.randn(100)>0 if i >0])"
   ]
  },
  {
   "cell_type": "markdown",
   "id": "db5808ca-1812-4e7f-8e28-899c3295a94c",
   "metadata": {},
   "source": [
    "10. (point 1) given def process(x): print(x, end = \",\"), use for loop to output odd numbers of np.random.randint(0, 100, 20) with seed of 1234 "
   ]
  },
  {
   "cell_type": "code",
   "execution_count": 33,
   "id": "71c2cfcd-6f2b-4b97-a93e-9c8a982e435f",
   "metadata": {},
   "outputs": [
    {
     "name": "stdout",
     "output_type": "stream",
     "text": [
      "47,83,53,15,49,23,43,69,73,47,"
     ]
    }
   ],
   "source": [
    "def process(x): print(x, end = \", \")\n",
    "\n",
    "np.random.seed(1234)\n",
    "for i in np.random.randint(0, 100, 20):\n",
    "    if i % 2 != 0:\n",
    "        process(i)"
   ]
  },
  {
   "cell_type": "markdown",
   "id": "4c1e36d4-813e-416d-8175-97eeb3c2f244",
   "metadata": {},
   "source": [
    "## Q11-15 will use date as sns.load_dataset(\"penguins\")"
   ]
  },
  {
   "cell_type": "code",
   "execution_count": 4,
   "id": "f322faf0-9bdf-4260-8474-3fa556a07ceb",
   "metadata": {},
   "outputs": [],
   "source": [
    "penguins = sns.load_dataset(\"penguins\")"
   ]
  },
  {
   "cell_type": "code",
   "execution_count": 5,
   "id": "e59d5e40-7d8d-4fe4-9915-1ddd217ae63e",
   "metadata": {},
   "outputs": [
    {
     "data": {
      "text/html": [
       "<div>\n",
       "<style scoped>\n",
       "    .dataframe tbody tr th:only-of-type {\n",
       "        vertical-align: middle;\n",
       "    }\n",
       "\n",
       "    .dataframe tbody tr th {\n",
       "        vertical-align: top;\n",
       "    }\n",
       "\n",
       "    .dataframe thead th {\n",
       "        text-align: right;\n",
       "    }\n",
       "</style>\n",
       "<table border=\"1\" class=\"dataframe\">\n",
       "  <thead>\n",
       "    <tr style=\"text-align: right;\">\n",
       "      <th></th>\n",
       "      <th>species</th>\n",
       "      <th>island</th>\n",
       "      <th>bill_length_mm</th>\n",
       "      <th>bill_depth_mm</th>\n",
       "      <th>flipper_length_mm</th>\n",
       "      <th>body_mass_g</th>\n",
       "      <th>sex</th>\n",
       "    </tr>\n",
       "  </thead>\n",
       "  <tbody>\n",
       "    <tr>\n",
       "      <th>0</th>\n",
       "      <td>Adelie</td>\n",
       "      <td>Torgersen</td>\n",
       "      <td>39.1</td>\n",
       "      <td>18.7</td>\n",
       "      <td>181.0</td>\n",
       "      <td>3750.0</td>\n",
       "      <td>Male</td>\n",
       "    </tr>\n",
       "    <tr>\n",
       "      <th>1</th>\n",
       "      <td>Adelie</td>\n",
       "      <td>Torgersen</td>\n",
       "      <td>39.5</td>\n",
       "      <td>17.4</td>\n",
       "      <td>186.0</td>\n",
       "      <td>3800.0</td>\n",
       "      <td>Female</td>\n",
       "    </tr>\n",
       "    <tr>\n",
       "      <th>2</th>\n",
       "      <td>Adelie</td>\n",
       "      <td>Torgersen</td>\n",
       "      <td>40.3</td>\n",
       "      <td>18.0</td>\n",
       "      <td>195.0</td>\n",
       "      <td>3250.0</td>\n",
       "      <td>Female</td>\n",
       "    </tr>\n",
       "    <tr>\n",
       "      <th>3</th>\n",
       "      <td>Adelie</td>\n",
       "      <td>Torgersen</td>\n",
       "      <td>NaN</td>\n",
       "      <td>NaN</td>\n",
       "      <td>NaN</td>\n",
       "      <td>NaN</td>\n",
       "      <td>NaN</td>\n",
       "    </tr>\n",
       "    <tr>\n",
       "      <th>4</th>\n",
       "      <td>Adelie</td>\n",
       "      <td>Torgersen</td>\n",
       "      <td>36.7</td>\n",
       "      <td>19.3</td>\n",
       "      <td>193.0</td>\n",
       "      <td>3450.0</td>\n",
       "      <td>Female</td>\n",
       "    </tr>\n",
       "  </tbody>\n",
       "</table>\n",
       "</div>"
      ],
      "text/plain": [
       "  species     island  bill_length_mm  bill_depth_mm  flipper_length_mm  \\\n",
       "0  Adelie  Torgersen            39.1           18.7              181.0   \n",
       "1  Adelie  Torgersen            39.5           17.4              186.0   \n",
       "2  Adelie  Torgersen            40.3           18.0              195.0   \n",
       "3  Adelie  Torgersen             NaN            NaN                NaN   \n",
       "4  Adelie  Torgersen            36.7           19.3              193.0   \n",
       "\n",
       "   body_mass_g     sex  \n",
       "0       3750.0    Male  \n",
       "1       3800.0  Female  \n",
       "2       3250.0  Female  \n",
       "3          NaN     NaN  \n",
       "4       3450.0  Female  "
      ]
     },
     "execution_count": 5,
     "metadata": {},
     "output_type": "execute_result"
    }
   ],
   "source": [
    "penguins.head()"
   ]
  },
  {
   "cell_type": "markdown",
   "id": "946ab93d-c693-4bb4-af5a-cbb39acc5334",
   "metadata": {},
   "source": [
    "11. (point 1) with penguins data, use code to check how many unique species of penguins in the data."
   ]
  },
  {
   "cell_type": "code",
   "execution_count": 6,
   "id": "0e21d9fa-7324-4697-9468-66ff97b98eef",
   "metadata": {},
   "outputs": [
    {
     "data": {
      "text/plain": [
       "array(['Adelie', 'Chinstrap', 'Gentoo'], dtype=object)"
      ]
     },
     "execution_count": 6,
     "metadata": {},
     "output_type": "execute_result"
    }
   ],
   "source": [
    "penguins.species.unique()"
   ]
  },
  {
   "cell_type": "markdown",
   "id": "3b7f3083-98b5-47a0-b2ec-6aefb27fb24d",
   "metadata": {},
   "source": [
    "12. (point 1) with penguins data, use code to check the sex count by species."
   ]
  },
  {
   "cell_type": "code",
   "execution_count": 7,
   "id": "eb7c6f7c-14fb-4277-9df8-4768d3191a72",
   "metadata": {},
   "outputs": [
    {
     "data": {
      "text/plain": [
       "species    sex   \n",
       "Adelie     Female    73\n",
       "           Male      73\n",
       "Chinstrap  Female    34\n",
       "           Male      34\n",
       "Gentoo     Female    58\n",
       "           Male      61\n",
       "dtype: int64"
      ]
     },
     "execution_count": 7,
     "metadata": {},
     "output_type": "execute_result"
    }
   ],
   "source": [
    "penguins.groupby(['species', 'sex']).size()"
   ]
  },
  {
   "cell_type": "markdown",
   "id": "d1d303e5-61a2-4420-86f9-6750c689e5fb",
   "metadata": {},
   "source": [
    "13. (point 1) With penguins data, check how many missing data in the data"
   ]
  },
  {
   "cell_type": "code",
   "execution_count": 8,
   "id": "0bc1ebed-ade9-4b3a-a130-bdb2f48e65cc",
   "metadata": {},
   "outputs": [
    {
     "data": {
      "text/plain": [
       "species               0\n",
       "island                0\n",
       "bill_length_mm        2\n",
       "bill_depth_mm         2\n",
       "flipper_length_mm     2\n",
       "body_mass_g           2\n",
       "sex                  11\n",
       "dtype: int64"
      ]
     },
     "execution_count": 8,
     "metadata": {},
     "output_type": "execute_result"
    }
   ],
   "source": [
    "penguins.isnull().sum()"
   ]
  },
  {
   "cell_type": "markdown",
   "id": "fb64fc64-c6ec-47fe-a1c8-7a6a8c06753a",
   "metadata": {},
   "source": [
    "14. (point 1) with penguins data, slice rows satisfying body_mass_g larger than 6000, species is not \"Adelie\""
   ]
  },
  {
   "cell_type": "code",
   "execution_count": 9,
   "id": "ad718a8c-a21e-4868-bb91-66aa364b274a",
   "metadata": {},
   "outputs": [
    {
     "data": {
      "text/html": [
       "<div>\n",
       "<style scoped>\n",
       "    .dataframe tbody tr th:only-of-type {\n",
       "        vertical-align: middle;\n",
       "    }\n",
       "\n",
       "    .dataframe tbody tr th {\n",
       "        vertical-align: top;\n",
       "    }\n",
       "\n",
       "    .dataframe thead th {\n",
       "        text-align: right;\n",
       "    }\n",
       "</style>\n",
       "<table border=\"1\" class=\"dataframe\">\n",
       "  <thead>\n",
       "    <tr style=\"text-align: right;\">\n",
       "      <th></th>\n",
       "      <th>species</th>\n",
       "      <th>island</th>\n",
       "      <th>bill_length_mm</th>\n",
       "      <th>bill_depth_mm</th>\n",
       "      <th>flipper_length_mm</th>\n",
       "      <th>body_mass_g</th>\n",
       "      <th>sex</th>\n",
       "    </tr>\n",
       "  </thead>\n",
       "  <tbody>\n",
       "    <tr>\n",
       "      <th>237</th>\n",
       "      <td>Gentoo</td>\n",
       "      <td>Biscoe</td>\n",
       "      <td>49.2</td>\n",
       "      <td>15.2</td>\n",
       "      <td>221.0</td>\n",
       "      <td>6300.0</td>\n",
       "      <td>Male</td>\n",
       "    </tr>\n",
       "    <tr>\n",
       "      <th>253</th>\n",
       "      <td>Gentoo</td>\n",
       "      <td>Biscoe</td>\n",
       "      <td>59.6</td>\n",
       "      <td>17.0</td>\n",
       "      <td>230.0</td>\n",
       "      <td>6050.0</td>\n",
       "      <td>Male</td>\n",
       "    </tr>\n",
       "  </tbody>\n",
       "</table>\n",
       "</div>"
      ],
      "text/plain": [
       "    species  island  bill_length_mm  bill_depth_mm  flipper_length_mm  \\\n",
       "237  Gentoo  Biscoe            49.2           15.2              221.0   \n",
       "253  Gentoo  Biscoe            59.6           17.0              230.0   \n",
       "\n",
       "     body_mass_g   sex  \n",
       "237       6300.0  Male  \n",
       "253       6050.0  Male  "
      ]
     },
     "execution_count": 9,
     "metadata": {},
     "output_type": "execute_result"
    }
   ],
   "source": [
    "penguins.loc[(penguins.body_mass_g > 6000) & (penguins.species != \"Adelie\"), :]"
   ]
  },
  {
   "cell_type": "markdown",
   "id": "fc196d6d-d9ea-41d3-b112-679aa0a94b29",
   "metadata": {},
   "source": [
    "15 (point 1) with random tempreture of `np.random.uniform(-20, 0, len(penguins))`, merge the tempreture data to the penguins data with name of `tempreture`, and print the first 3 rows. hint: use index to merge 2 data sets"
   ]
  },
  {
   "cell_type": "code",
   "execution_count": 77,
   "id": "6d16fa52-8869-4044-aa4e-5b04b91ac849",
   "metadata": {},
   "outputs": [
    {
     "data": {
      "text/html": [
       "<div>\n",
       "<style scoped>\n",
       "    .dataframe tbody tr th:only-of-type {\n",
       "        vertical-align: middle;\n",
       "    }\n",
       "\n",
       "    .dataframe tbody tr th {\n",
       "        vertical-align: top;\n",
       "    }\n",
       "\n",
       "    .dataframe thead th {\n",
       "        text-align: right;\n",
       "    }\n",
       "</style>\n",
       "<table border=\"1\" class=\"dataframe\">\n",
       "  <thead>\n",
       "    <tr style=\"text-align: right;\">\n",
       "      <th></th>\n",
       "      <th>species</th>\n",
       "      <th>island</th>\n",
       "      <th>bill_length_mm</th>\n",
       "      <th>bill_depth_mm</th>\n",
       "      <th>flipper_length_mm</th>\n",
       "      <th>body_mass_g</th>\n",
       "      <th>sex</th>\n",
       "      <th>tempreture</th>\n",
       "    </tr>\n",
       "  </thead>\n",
       "  <tbody>\n",
       "    <tr>\n",
       "      <th>0</th>\n",
       "      <td>Adelie</td>\n",
       "      <td>Torgersen</td>\n",
       "      <td>39.1</td>\n",
       "      <td>18.7</td>\n",
       "      <td>181.0</td>\n",
       "      <td>3750.0</td>\n",
       "      <td>Male</td>\n",
       "      <td>-16.169611</td>\n",
       "    </tr>\n",
       "    <tr>\n",
       "      <th>1</th>\n",
       "      <td>Adelie</td>\n",
       "      <td>Torgersen</td>\n",
       "      <td>39.5</td>\n",
       "      <td>17.4</td>\n",
       "      <td>186.0</td>\n",
       "      <td>3800.0</td>\n",
       "      <td>Female</td>\n",
       "      <td>-7.557825</td>\n",
       "    </tr>\n",
       "    <tr>\n",
       "      <th>2</th>\n",
       "      <td>Adelie</td>\n",
       "      <td>Torgersen</td>\n",
       "      <td>40.3</td>\n",
       "      <td>18.0</td>\n",
       "      <td>195.0</td>\n",
       "      <td>3250.0</td>\n",
       "      <td>Female</td>\n",
       "      <td>-11.245445</td>\n",
       "    </tr>\n",
       "  </tbody>\n",
       "</table>\n",
       "</div>"
      ],
      "text/plain": [
       "  species     island  bill_length_mm  bill_depth_mm  flipper_length_mm  \\\n",
       "0  Adelie  Torgersen            39.1           18.7              181.0   \n",
       "1  Adelie  Torgersen            39.5           17.4              186.0   \n",
       "2  Adelie  Torgersen            40.3           18.0              195.0   \n",
       "\n",
       "   body_mass_g     sex  tempreture  \n",
       "0       3750.0    Male  -16.169611  \n",
       "1       3800.0  Female   -7.557825  \n",
       "2       3250.0  Female  -11.245445  "
      ]
     },
     "execution_count": 77,
     "metadata": {},
     "output_type": "execute_result"
    }
   ],
   "source": [
    "np.random.seed(1234)\n",
    "temp = np.random.uniform(-20, 0, len(penguins))\n",
    "pd_merg = pd.merge(penguins, pd.Series(temp, name = 'tempreture'), left_index = True, right_index = True)\n",
    "pd_merg.head(3)"
   ]
  },
  {
   "cell_type": "markdown",
   "id": "7e3f9f07-b46e-468d-a226-1324e0a240a0",
   "metadata": {},
   "source": [
    "16 (point 1) with input of  x = np.linspace(-1.5, 1.5, 50); y = x ** 2, plot line of x, and y with title `\"Square Fucntion\"` "
   ]
  },
  {
   "cell_type": "code",
   "execution_count": 92,
   "id": "b5b5c8b0-ecda-48d7-b813-7359df85dd62",
   "metadata": {},
   "outputs": [
    {
     "data": {
      "text/plain": [
       "Text(0.5, 1.0, 'Square Fucntion')"
      ]
     },
     "execution_count": 92,
     "metadata": {},
     "output_type": "execute_result"
    },
    {
     "data": {
      "image/png": "[encoded data removed]",
      "text/plain": [
       "<Figure size 432x288 with 1 Axes>"
      ]
     },
     "metadata": {
      "needs_background": "light"
     },
     "output_type": "display_data"
    }
   ],
   "source": [
    "x = np.linspace(-1.5, 1.5, 50); y = x ** 2\n",
    "plt.plot(x, y)    \n",
    "plt.title(\"Square Fucntion\")"
   ]
  },
  {
   "cell_type": "markdown",
   "id": "1f247072-b533-490f-bf0f-b80d4fe2a9be",
   "metadata": {},
   "source": [
    "17 (point 1) add horzental line y = 1 in red and vertical line x = 0 in blue to the plt in Q16, hint: if you use plt, you need to define min and max"
   ]
  },
  {
   "cell_type": "code",
   "execution_count": 91,
   "id": "63f50c4b-ddbb-4f7a-8f4c-c3386755a1c3",
   "metadata": {},
   "outputs": [
    {
     "data": {
      "text/plain": [
       "<matplotlib.collections.LineCollection at 0x1aa838795e0>"
      ]
     },
     "execution_count": 91,
     "metadata": {},
     "output_type": "execute_result"
    },
    {
     "data": {
      "image/png": "[encoded data removed]",
      "text/plain": [
       "<Figure size 432x288 with 1 Axes>"
      ]
     },
     "metadata": {
      "needs_background": "light"
     },
     "output_type": "display_data"
    }
   ],
   "source": [
    "plt.plot(x, y)    \n",
    "plt.title(\"Square Fucntion\")\n",
    "plt.hlines(y = 1, xmin = -1.5, xmax = 1.5, color = \"r\")\n",
    "plt.vlines(x = 0, ymin = 0, ymax = 2, color = \"b\")"
   ]
  },
  {
   "cell_type": "markdown",
   "id": "6ce01013-d510-4f7e-b269-f1a76a85143f",
   "metadata": {},
   "source": [
    "18 (point 1) with input of  x = np.linspace(-1.5, 1.5, 50); y1 = x ** 2; y2 = x **3, plot line of x, y1 and y2 in a grid of 2 rows and 1 column "
   ]
  },
  {
   "cell_type": "code",
   "execution_count": 99,
   "id": "ad61c1c6-3e67-4698-80bc-2c4cb33e165f",
   "metadata": {},
   "outputs": [
    {
     "data": {
      "text/plain": [
       "array([-3.37500000e+00, -2.97837317e+00, -2.61410530e+00, -2.28081943e+00,\n",
       "       -1.97713856e+00, -1.70168573e+00, -1.45308396e+00, -1.22995627e+00,\n",
       "       -1.03092568e+00, -8.54615211e-01, -6.99647893e-01, -5.64646746e-01,\n",
       "       -4.48234792e-01, -3.49035053e-01, -2.65670554e-01, -1.96764316e-01,\n",
       "       -1.40939362e-01, -9.68187150e-02, -6.30253976e-02, -3.81824325e-02,\n",
       "       -2.09128424e-02, -9.83965015e-03, -3.58587833e-03, -7.74549720e-04,\n",
       "       -2.86870267e-05,  2.86870267e-05,  7.74549720e-04,  3.58587833e-03,\n",
       "        9.83965015e-03,  2.09128424e-02,  3.81824325e-02,  6.30253976e-02,\n",
       "        9.68187150e-02,  1.40939362e-01,  1.96764316e-01,  2.65670554e-01,\n",
       "        3.49035053e-01,  4.48234792e-01,  5.64646746e-01,  6.99647893e-01,\n",
       "        8.54615211e-01,  1.03092568e+00,  1.22995627e+00,  1.45308396e+00,\n",
       "        1.70168573e+00,  1.97713856e+00,  2.28081943e+00,  2.61410530e+00,\n",
       "        2.97837317e+00,  3.37500000e+00])"
      ]
     },
     "execution_count": 99,
     "metadata": {},
     "output_type": "execute_result"
    }
   ],
   "source": [
    "y2"
   ]
  },
  {
   "cell_type": "code",
   "execution_count": 102,
   "id": "731dcd49-6f15-405e-8c68-327320c49a1d",
   "metadata": {},
   "outputs": [
    {
     "data": {
      "text/plain": [
       "[<matplotlib.lines.Line2D at 0x1aa83dd9df0>]"
      ]
     },
     "execution_count": 102,
     "metadata": {},
     "output_type": "execute_result"
    },
    {
     "data": {
      "image/png": "[encoded data removed]",
      "text/plain": [
       "<Figure size 576x432 with 2 Axes>"
      ]
     },
     "metadata": {
      "needs_background": "light"
     },
     "output_type": "display_data"
    }
   ],
   "source": [
    "y1 = x ** 2\n",
    "y2 = x ** 3\n",
    "\n",
    "fig, (ax1, ax2) = plt.subplots(2,1, figsize=(8,6))\n",
    "ax1.plot(x, y1) \n",
    "ax2.plot(x, y2) "
   ]
  },
  {
   "cell_type": "markdown",
   "id": "16da12e0-ef52-480a-9b2c-19cf9aad2b5d",
   "metadata": {},
   "source": [
    "19 (point 1) With random seed of 1234, `X = np.random.random((100, 2))` and `y = np.dot(X, [1, .1, .5]) + np.random.random(100)`, let us fit a linear regression model using selected package, and print the summary of model  "
   ]
  },
  {
   "cell_type": "code",
   "execution_count": 11,
   "id": "2af0191a-e7f0-465b-a4b5-29918b103f9c",
   "metadata": {},
   "outputs": [],
   "source": [
    "np.random.seed(1234)\n",
    "X = np.random.random((100, 2))\n",
    "X = sm.add_constant(X)\n",
    "y = np.dot(X, [1, .1, .5]) + np.random.random(100)\n",
    "\n",
    "model = sm.OLS(y, X).fit()"
   ]
  },
  {
   "cell_type": "code",
   "execution_count": 16,
   "id": "7a257df6-bf2a-475c-a6c0-bd3874603de4",
   "metadata": {},
   "outputs": [
    {
     "data": {
      "text/html": [
       "<div>\n",
       "<style scoped>\n",
       "    .dataframe tbody tr th:only-of-type {\n",
       "        vertical-align: middle;\n",
       "    }\n",
       "\n",
       "    .dataframe tbody tr th {\n",
       "        vertical-align: top;\n",
       "    }\n",
       "\n",
       "    .dataframe thead th {\n",
       "        text-align: right;\n",
       "    }\n",
       "</style>\n",
       "<table border=\"1\" class=\"dataframe\">\n",
       "  <thead>\n",
       "    <tr style=\"text-align: right;\">\n",
       "      <th></th>\n",
       "      <th>Coef.</th>\n",
       "      <th>Std.Err.</th>\n",
       "      <th>t</th>\n",
       "      <th>P&gt;|t|</th>\n",
       "      <th>[0.025</th>\n",
       "      <th>0.975]</th>\n",
       "    </tr>\n",
       "  </thead>\n",
       "  <tbody>\n",
       "    <tr>\n",
       "      <th>const</th>\n",
       "      <td>1.597244</td>\n",
       "      <td>0.076354</td>\n",
       "      <td>20.918830</td>\n",
       "      <td>9.978579e-38</td>\n",
       "      <td>1.445702</td>\n",
       "      <td>1.748786</td>\n",
       "    </tr>\n",
       "    <tr>\n",
       "      <th>x1</th>\n",
       "      <td>-0.017608</td>\n",
       "      <td>0.099728</td>\n",
       "      <td>-0.176559</td>\n",
       "      <td>8.602231e-01</td>\n",
       "      <td>-0.215540</td>\n",
       "      <td>0.180324</td>\n",
       "    </tr>\n",
       "    <tr>\n",
       "      <th>x2</th>\n",
       "      <td>0.454980</td>\n",
       "      <td>0.101418</td>\n",
       "      <td>4.486167</td>\n",
       "      <td>1.993480e-05</td>\n",
       "      <td>0.253693</td>\n",
       "      <td>0.656268</td>\n",
       "    </tr>\n",
       "  </tbody>\n",
       "</table>\n",
       "</div>"
      ],
      "text/plain": [
       "          Coef.  Std.Err.          t         P>|t|    [0.025    0.975]\n",
       "const  1.597244  0.076354  20.918830  9.978579e-38  1.445702  1.748786\n",
       "x1    -0.017608  0.099728  -0.176559  8.602231e-01 -0.215540  0.180324\n",
       "x2     0.454980  0.101418   4.486167  1.993480e-05  0.253693  0.656268"
      ]
     },
     "execution_count": 16,
     "metadata": {},
     "output_type": "execute_result"
    }
   ],
   "source": [
    "coeff_tbl = model.summary2().tables[1]\n",
    "coeff_tbl"
   ]
  },
  {
   "cell_type": "code",
   "execution_count": 17,
   "id": "119febef-f3e2-49f8-aa3b-6613214c294e",
   "metadata": {},
   "outputs": [
    {
     "data": {
      "text/plain": [
       "Index(['Coef.', 'Std.Err.', 't', 'P>|t|', '[0.025', '0.975]'], dtype='object')"
      ]
     },
     "execution_count": 17,
     "metadata": {},
     "output_type": "execute_result"
    }
   ],
   "source": [
    "coeff_tbl.columns"
   ]
  },
  {
   "cell_type": "markdown",
   "id": "c4943730-5e7d-4a35-a32a-79b9d2063684",
   "metadata": {},
   "source": [
    "20 (point 1) With the summary table from Q19, use code to get the independent variable (X) is not significant for the model that should be dropped. Do NOT hard code the output.   "
   ]
  },
  {
   "cell_type": "code",
   "execution_count": 116,
   "id": "01387994-3597-40ee-8568-4ed3c74d7fc1",
   "metadata": {},
   "outputs": [
    {
     "data": {
      "text/plain": [
       "Index(['x1'], dtype='object')"
      ]
     },
     "execution_count": 116,
     "metadata": {},
     "output_type": "execute_result"
    }
   ],
   "source": [
    "coeff_tbl.index[coeff_tbl['P>|t|'] > 0.05] "
   ]
  }
 ],
 "metadata": {
  "kernelspec": {
   "display_name": "Python 3 (ipykernel)",
   "language": "python",
   "name": "python3"
  },
  "language_info": {
   "codemirror_mode": {
    "name": "ipython",
    "version": 3
   },
   "file_extension": ".py",
   "mimetype": "text/x-python",
   "name": "python",
   "nbconvert_exporter": "python",
   "pygments_lexer": "ipython3",
   "version": "3.9.12"
  }
 },
 "nbformat": 4,
 "nbformat_minor": 5
}
