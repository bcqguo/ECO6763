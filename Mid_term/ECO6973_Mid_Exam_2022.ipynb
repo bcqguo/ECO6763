{
 "cells": [
  {
   "cell_type": "markdown",
   "id": "574fc5a2-1f35-4876-8925-71885a3f0227",
   "metadata": {},
   "source": [
    "ECO6973 ST: Data Analytics in Python\n",
    " Mid Exam (Fall 2020)\n",
    "\n",
    "INSTRUCTIONS FOR STUDENTS:\n",
    "\n",
    "The open-book exam should be answered electronically in jupyter notebook. Students are required to finish the exam independently with limited access to 1) reference books, 2) class notes, and 3) google"
   ]
  },
  {
   "cell_type": "code",
   "execution_count": 1,
   "id": "b5d19456-054e-4b4f-8b2c-285f068eeff7",
   "metadata": {
    "tags": []
   },
   "outputs": [],
   "source": [
    "import numpy as np\n",
    "import pandas as pd\n",
    "import matplotlib.pyplot as plt\n",
    "import seaborn as sns\n",
    "import statsmodels.api as sm"
   ]
  },
  {
   "cell_type": "markdown",
   "id": "7aab07cd-1f7d-4cc3-b978-3de553cadbe8",
   "metadata": {},
   "source": [
    "1.\t(1 point) Which names can serve as valid variable names in Python? \n",
    "\n",
    "(a) elif <br>\n",
    "(b) your_name <br> \n",
    "(c) 6sigma <br>\n",
    "(d) lambda <br>\n",
    "(e) pass <br>\n",
    "(f) _continue <br>"
   ]
  },
  {
   "cell_type": "code",
   "execution_count": 2,
   "id": "c83771f6-59dc-443e-acee-c1c697162559",
   "metadata": {
    "tags": []
   },
   "outputs": [
    {
     "name": "stdin",
     "output_type": "stream",
     "text": [
      "Please key in your answer(s) :  b, f\n"
     ]
    },
    {
     "name": "stdout",
     "output_type": "stream",
     "text": [
      "b, f\n"
     ]
    }
   ],
   "source": [
    "#run this line with your input \n",
    "print(input(\"Please key in your answer(s) for Q1: \"))"
   ]
  },
  {
   "cell_type": "markdown",
   "id": "c181a482-1351-4794-b69e-d9d55a969f9a",
   "metadata": {},
   "source": [
    "2.\t(1 point) Let us have a = \"Eco5360\", Provide your code to reverse the numbers and letter in reverse order and return a single string as \"06350cE\". hint: you can use \"\".join(list) to concatenante characters into a string without space."
   ]
  },
  {
   "cell_type": "code",
   "execution_count": 4,
   "id": "5a42bd11-78d2-4f9c-b030-a3d4c8aad75c",
   "metadata": {
    "tags": []
   },
   "outputs": [
    {
     "data": {
      "text/plain": [
       "'0635ocE'"
      ]
     },
     "execution_count": 4,
     "metadata": {},
     "output_type": "execute_result"
    }
   ],
   "source": [
    "#Your code for Q-2\n",
    "a = \"Eco5360\"\n",
    "#your code here\n",
    "\n",
    "\"\".join(list(a)[::-1])"
   ]
  },
  {
   "cell_type": "markdown",
   "id": "d5cb70fb-626e-4f8a-bbbc-8654cc88a8b2",
   "metadata": {},
   "source": [
    "3.\t(1 point) Given a numpy array of np.random.randint(0, 100, 100).reshape(4,25) with seed of 1234, What is the sliced element with index of (3,7)?"
   ]
  },
  {
   "cell_type": "code",
   "execution_count": 117,
   "id": "50140997-1b88-462b-981d-af674cdd4f33",
   "metadata": {},
   "outputs": [
    {
     "data": {
      "text/plain": [
       "89"
      ]
     },
     "execution_count": 117,
     "metadata": {},
     "output_type": "execute_result"
    }
   ],
   "source": [
    "np.random.seed(1234)\n",
    "array = np.random.randint(0, 100, 100).reshape(4, 25)\n",
    "#your code here\n",
    "\n"
   ]
  },
  {
   "cell_type": "markdown",
   "id": "aa267e6f-f24c-4ecb-ab73-90aa2fd6e632",
   "metadata": {},
   "source": [
    "4. (1 point) define a function to get factorial of a non-negative integer, test it with input of 720 for 6!, you need to consider special cases of 0 and 1, such as 1 for 0! and 1 for 1!. You also need to check if the x is a negative value. Do not use any pre-existing API function"
   ]
  },
  {
   "cell_type": "code",
   "execution_count": 9,
   "id": "0f60776b-7d05-4ca8-94e7-2ef44f498ad7",
   "metadata": {
    "tags": []
   },
   "outputs": [],
   "source": [
    "def shortFact1(x):\n",
    "    #your code here\n",
    "    if x < 0:\n",
    "        print(\"please input a non-negative interger.\")\n",
    "    \n",
    "    elif x in [0, 1]:\n",
    "        return 1\n",
    "    \n",
    "    else:        \n",
    "        out = 1\n",
    "        for i in range(1, x+1):\n",
    "            out *= i\n",
    "        return out\n",
    "    \n",
    "    "
   ]
  },
  {
   "cell_type": "code",
   "execution_count": 10,
   "id": "b016be4d-5a0b-48b9-b88a-55ea72beb965",
   "metadata": {
    "tags": []
   },
   "outputs": [
    {
     "data": {
      "text/plain": [
       "720"
      ]
     },
     "execution_count": 10,
     "metadata": {},
     "output_type": "execute_result"
    }
   ],
   "source": [
    "shortFact1(6)"
   ]
  },
  {
   "cell_type": "code",
   "execution_count": 11,
   "id": "cde5c100-aa98-4867-ab15-0fb959530b3e",
   "metadata": {
    "tags": []
   },
   "outputs": [
    {
     "data": {
      "text/plain": [
       "1"
      ]
     },
     "execution_count": 11,
     "metadata": {},
     "output_type": "execute_result"
    }
   ],
   "source": [
    "shortFact1(0)"
   ]
  },
  {
   "cell_type": "code",
   "execution_count": 12,
   "id": "5f7e18d8-ba09-497f-93cf-6d44476be578",
   "metadata": {
    "tags": []
   },
   "outputs": [
    {
     "name": "stdout",
     "output_type": "stream",
     "text": [
      "please input a non-negative interger.\n"
     ]
    }
   ],
   "source": [
    "shortFact1(-1)"
   ]
  },
  {
   "cell_type": "markdown",
   "id": "b9d7fc1b-eef3-4d20-9de3-de985e7886e2",
   "metadata": {},
   "source": [
    "5. (1 point) Given a string \"apple, banana, cherry\", use code to split the string separated by \", \" and return 3 fruit names in string"
   ]
  },
  {
   "cell_type": "code",
   "execution_count": 28,
   "id": "b491ebaa-cca0-49f2-9f64-6d7612d95aa5",
   "metadata": {},
   "outputs": [
    {
     "data": {
      "text/plain": [
       "['apple', 'banana', 'cherry']"
      ]
     },
     "execution_count": 28,
     "metadata": {},
     "output_type": "execute_result"
    }
   ],
   "source": [
    "fruits = \"apple, banana, cherry\"\n",
    "#your code here\n",
    "\n"
   ]
  },
  {
   "cell_type": "markdown",
   "id": "f1758deb-d57f-4037-9d4f-035bcab8638c",
   "metadata": {},
   "source": [
    "6. (1 point) use code count the upper case letters in a string \"We love Python\". *** Do not hard code the count!  *** "
   ]
  },
  {
   "cell_type": "code",
   "execution_count": 34,
   "id": "8df7e6b3-5041-40e2-9c38-8638269c7b89",
   "metadata": {},
   "outputs": [
    {
     "data": {
      "text/plain": [
       "2"
      ]
     },
     "execution_count": 34,
     "metadata": {},
     "output_type": "execute_result"
    }
   ],
   "source": [
    "string = \"We love Python\"\n",
    "#your code here\n",
    "\n"
   ]
  },
  {
   "cell_type": "markdown",
   "id": "6d841490-f6a7-4d75-9083-99504a01c0c6",
   "metadata": {},
   "source": [
    "7. (1 point) Given 2 list of numbers list1 = [1, 3, 6, 22, 35, 55] and list2 = [12, 24, 35, 24, 55, 120], use code to output the unique numbers in list2 but not in list1  "
   ]
  },
  {
   "cell_type": "code",
   "execution_count": 37,
   "id": "7ce54f13-bd11-4d1d-a83a-540425008604",
   "metadata": {},
   "outputs": [
    {
     "data": {
      "text/plain": [
       "{12, 24, 120}"
      ]
     },
     "execution_count": 37,
     "metadata": {},
     "output_type": "execute_result"
    }
   ],
   "source": [
    "list1 = [1, 3, 6, 22, 35, 55] \n",
    "list2 = [12, 24, 35, 24, 55, 120]\n",
    "#your code here\n",
    "\n"
   ]
  },
  {
   "cell_type": "markdown",
   "id": "8c7aa7b3-2ac0-473a-b455-b0b2cd2868a7",
   "metadata": {},
   "source": [
    "8. (1 point) Given a numpy array of `np.random.randn(100)` with seed of 1234, What is the sum of non-negative values?"
   ]
  },
  {
   "cell_type": "code",
   "execution_count": 16,
   "id": "a7855a89-4b5f-4f33-ab35-49a4743bdc0b",
   "metadata": {},
   "outputs": [
    {
     "data": {
      "text/plain": [
       "39.714368245810974"
      ]
     },
     "execution_count": 16,
     "metadata": {},
     "output_type": "execute_result"
    }
   ],
   "source": [
    "np.random.seed(1234)\n",
    "#your code here\n",
    "\n"
   ]
  },
  {
   "cell_type": "markdown",
   "id": "028f553f-899d-4491-bf14-c4a1dd241cc4",
   "metadata": {},
   "source": [
    "9. (point 1) Given a numpy array of np.random.randn(100) with seed of 1234, How many values in the array are larger than 0?"
   ]
  },
  {
   "cell_type": "code",
   "execution_count": 30,
   "id": "f079a6b7-4e3b-44b8-bad6-0abd67947cb8",
   "metadata": {},
   "outputs": [
    {
     "data": {
      "text/plain": [
       "57"
      ]
     },
     "execution_count": 30,
     "metadata": {},
     "output_type": "execute_result"
    }
   ],
   "source": [
    "np.random.seed(1234)\n",
    "#your code here\n",
    "\n"
   ]
  },
  {
   "cell_type": "markdown",
   "id": "db5808ca-1812-4e7f-8e28-899c3295a94c",
   "metadata": {},
   "source": [
    "10. (point 1) given the process function as `def process(x): print(x, end = \",\")`, use for loop to output odd numbers in `np.random.randint(0, 100, 20)` with seed of 1234 "
   ]
  },
  {
   "cell_type": "code",
   "execution_count": 33,
   "id": "71c2cfcd-6f2b-4b97-a93e-9c8a982e435f",
   "metadata": {},
   "outputs": [
    {
     "name": "stdout",
     "output_type": "stream",
     "text": [
      "47,83,53,15,49,23,43,69,73,47,"
     ]
    }
   ],
   "source": [
    "def process(x): \n",
    "    print(x, end = \", \")\n",
    "\n",
    "np.random.seed(1234)\n",
    "for i in np.random.randint(0, 100, 20):\n",
    "    #your code here\n",
    "    \n",
    "    "
   ]
  },
  {
   "cell_type": "markdown",
   "id": "856646bc-80d9-4c85-9481-14b469ea7db8",
   "metadata": {},
   "source": [
    "11. (point 1) \n",
    "\n",
    "Given x = 5, y = x, x = y + 3, what `print(x)` will show\n",
    "\n",
    "Choices: <br>\n",
    "(a) 5 <br>\n",
    "(b) 3 <br>\n",
    "(c) 8 <br>"
   ]
  },
  {
   "cell_type": "code",
   "execution_count": 15,
   "id": "8ed909fb-5dd5-4213-acd7-065603130ca9",
   "metadata": {
    "tags": []
   },
   "outputs": [],
   "source": [
    "print(input(\"Please key in your answer(s) for Q11: \"))"
   ]
  },
  {
   "cell_type": "markdown",
   "id": "4c1e36d4-813e-416d-8175-97eeb3c2f244",
   "metadata": {},
   "source": [
    "## Q12-16 will use date as sns.load_dataset(\"penguins\") as input"
   ]
  },
  {
   "cell_type": "code",
   "execution_count": 16,
   "id": "f322faf0-9bdf-4260-8474-3fa556a07ceb",
   "metadata": {
    "tags": []
   },
   "outputs": [],
   "source": [
    "penguins = sns.load_dataset(\"penguins\")"
   ]
  },
  {
   "cell_type": "code",
   "execution_count": 17,
   "id": "e59d5e40-7d8d-4fe4-9915-1ddd217ae63e",
   "metadata": {
    "tags": []
   },
   "outputs": [
    {
     "data": {
      "text/html": [
       "<div>\n",
       "<style scoped>\n",
       "    .dataframe tbody tr th:only-of-type {\n",
       "        vertical-align: middle;\n",
       "    }\n",
       "\n",
       "    .dataframe tbody tr th {\n",
       "        vertical-align: top;\n",
       "    }\n",
       "\n",
       "    .dataframe thead th {\n",
       "        text-align: right;\n",
       "    }\n",
       "</style>\n",
       "<table border=\"1\" class=\"dataframe\">\n",
       "  <thead>\n",
       "    <tr style=\"text-align: right;\">\n",
       "      <th></th>\n",
       "      <th>species</th>\n",
       "      <th>island</th>\n",
       "      <th>bill_length_mm</th>\n",
       "      <th>bill_depth_mm</th>\n",
       "      <th>flipper_length_mm</th>\n",
       "      <th>body_mass_g</th>\n",
       "      <th>sex</th>\n",
       "    </tr>\n",
       "  </thead>\n",
       "  <tbody>\n",
       "    <tr>\n",
       "      <th>0</th>\n",
       "      <td>Adelie</td>\n",
       "      <td>Torgersen</td>\n",
       "      <td>39.1</td>\n",
       "      <td>18.7</td>\n",
       "      <td>181.0</td>\n",
       "      <td>3750.0</td>\n",
       "      <td>Male</td>\n",
       "    </tr>\n",
       "    <tr>\n",
       "      <th>1</th>\n",
       "      <td>Adelie</td>\n",
       "      <td>Torgersen</td>\n",
       "      <td>39.5</td>\n",
       "      <td>17.4</td>\n",
       "      <td>186.0</td>\n",
       "      <td>3800.0</td>\n",
       "      <td>Female</td>\n",
       "    </tr>\n",
       "    <tr>\n",
       "      <th>2</th>\n",
       "      <td>Adelie</td>\n",
       "      <td>Torgersen</td>\n",
       "      <td>40.3</td>\n",
       "      <td>18.0</td>\n",
       "      <td>195.0</td>\n",
       "      <td>3250.0</td>\n",
       "      <td>Female</td>\n",
       "    </tr>\n",
       "    <tr>\n",
       "      <th>3</th>\n",
       "      <td>Adelie</td>\n",
       "      <td>Torgersen</td>\n",
       "      <td>NaN</td>\n",
       "      <td>NaN</td>\n",
       "      <td>NaN</td>\n",
       "      <td>NaN</td>\n",
       "      <td>NaN</td>\n",
       "    </tr>\n",
       "    <tr>\n",
       "      <th>4</th>\n",
       "      <td>Adelie</td>\n",
       "      <td>Torgersen</td>\n",
       "      <td>36.7</td>\n",
       "      <td>19.3</td>\n",
       "      <td>193.0</td>\n",
       "      <td>3450.0</td>\n",
       "      <td>Female</td>\n",
       "    </tr>\n",
       "  </tbody>\n",
       "</table>\n",
       "</div>"
      ],
      "text/plain": [
       "  species     island  bill_length_mm  bill_depth_mm  flipper_length_mm  \\\n",
       "0  Adelie  Torgersen            39.1           18.7              181.0   \n",
       "1  Adelie  Torgersen            39.5           17.4              186.0   \n",
       "2  Adelie  Torgersen            40.3           18.0              195.0   \n",
       "3  Adelie  Torgersen             NaN            NaN                NaN   \n",
       "4  Adelie  Torgersen            36.7           19.3              193.0   \n",
       "\n",
       "   body_mass_g     sex  \n",
       "0       3750.0    Male  \n",
       "1       3800.0  Female  \n",
       "2       3250.0  Female  \n",
       "3          NaN     NaN  \n",
       "4       3450.0  Female  "
      ]
     },
     "execution_count": 17,
     "metadata": {},
     "output_type": "execute_result"
    }
   ],
   "source": [
    "penguins.head()"
   ]
  },
  {
   "cell_type": "markdown",
   "id": "946ab93d-c693-4bb4-af5a-cbb39acc5334",
   "metadata": {},
   "source": [
    "12. (point 1) with penguins data, use code to check how many unique species of penguins in the data set using `species` column."
   ]
  },
  {
   "cell_type": "code",
   "execution_count": 46,
   "id": "0e21d9fa-7324-4697-9468-66ff97b98eef",
   "metadata": {},
   "outputs": [
    {
     "data": {
      "text/plain": [
       "array(['Adelie', 'Chinstrap', 'Gentoo'], dtype=object)"
      ]
     },
     "execution_count": 46,
     "metadata": {},
     "output_type": "execute_result"
    }
   ],
   "source": [
    "#your code here\n",
    "\n",
    "\n"
   ]
  },
  {
   "cell_type": "markdown",
   "id": "3b7f3083-98b5-47a0-b2ec-6aefb27fb24d",
   "metadata": {},
   "source": [
    "13. (point 1) with penguins data, use code to check the sex count by species. Hint: use .groupby()"
   ]
  },
  {
   "cell_type": "code",
   "execution_count": 52,
   "id": "eb7c6f7c-14fb-4277-9df8-4768d3191a72",
   "metadata": {},
   "outputs": [
    {
     "data": {
      "text/plain": [
       "species    sex   \n",
       "Adelie     Female    73\n",
       "           Male      73\n",
       "Chinstrap  Female    34\n",
       "           Male      34\n",
       "Gentoo     Female    58\n",
       "           Male      61\n",
       "dtype: int64"
      ]
     },
     "execution_count": 52,
     "metadata": {},
     "output_type": "execute_result"
    }
   ],
   "source": [
    "#your code here\n",
    "\n",
    "\n"
   ]
  },
  {
   "cell_type": "markdown",
   "id": "d1d303e5-61a2-4420-86f9-6750c689e5fb",
   "metadata": {},
   "source": [
    "14. (point 1) With penguins data, use copde to check how many missing data in the data"
   ]
  },
  {
   "cell_type": "code",
   "execution_count": 54,
   "id": "0bc1ebed-ade9-4b3a-a130-bdb2f48e65cc",
   "metadata": {},
   "outputs": [
    {
     "data": {
      "text/plain": [
       "species               0\n",
       "island                0\n",
       "bill_length_mm        2\n",
       "bill_depth_mm         2\n",
       "flipper_length_mm     2\n",
       "body_mass_g           2\n",
       "sex                  11\n",
       "dtype: int64"
      ]
     },
     "execution_count": 54,
     "metadata": {},
     "output_type": "execute_result"
    }
   ],
   "source": [
    "#your code here\n",
    "\n",
    "\n"
   ]
  },
  {
   "cell_type": "markdown",
   "id": "fb64fc64-c6ec-47fe-a1c8-7a6a8c06753a",
   "metadata": {},
   "source": [
    "15. (point 1) with penguins data, slice rows satisfying body_mass_g larger than 6000 and species is not \"Adelie\""
   ]
  },
  {
   "cell_type": "code",
   "execution_count": 71,
   "id": "ad718a8c-a21e-4868-bb91-66aa364b274a",
   "metadata": {},
   "outputs": [
    {
     "data": {
      "text/html": [
       "<div>\n",
       "<style scoped>\n",
       "    .dataframe tbody tr th:only-of-type {\n",
       "        vertical-align: middle;\n",
       "    }\n",
       "\n",
       "    .dataframe tbody tr th {\n",
       "        vertical-align: top;\n",
       "    }\n",
       "\n",
       "    .dataframe thead th {\n",
       "        text-align: right;\n",
       "    }\n",
       "</style>\n",
       "<table border=\"1\" class=\"dataframe\">\n",
       "  <thead>\n",
       "    <tr style=\"text-align: right;\">\n",
       "      <th></th>\n",
       "      <th>species</th>\n",
       "      <th>island</th>\n",
       "      <th>bill_length_mm</th>\n",
       "      <th>bill_depth_mm</th>\n",
       "      <th>flipper_length_mm</th>\n",
       "      <th>body_mass_g</th>\n",
       "      <th>sex</th>\n",
       "    </tr>\n",
       "  </thead>\n",
       "  <tbody>\n",
       "    <tr>\n",
       "      <th>7</th>\n",
       "      <td>Adelie</td>\n",
       "      <td>Torgersen</td>\n",
       "      <td>39.2</td>\n",
       "      <td>19.6</td>\n",
       "      <td>195.0</td>\n",
       "      <td>4675.0</td>\n",
       "      <td>Male</td>\n",
       "    </tr>\n",
       "    <tr>\n",
       "      <th>39</th>\n",
       "      <td>Adelie</td>\n",
       "      <td>Dream</td>\n",
       "      <td>39.8</td>\n",
       "      <td>19.1</td>\n",
       "      <td>184.0</td>\n",
       "      <td>4650.0</td>\n",
       "      <td>Male</td>\n",
       "    </tr>\n",
       "    <tr>\n",
       "      <th>45</th>\n",
       "      <td>Adelie</td>\n",
       "      <td>Dream</td>\n",
       "      <td>39.6</td>\n",
       "      <td>18.8</td>\n",
       "      <td>190.0</td>\n",
       "      <td>4600.0</td>\n",
       "      <td>Male</td>\n",
       "    </tr>\n",
       "    <tr>\n",
       "      <th>81</th>\n",
       "      <td>Adelie</td>\n",
       "      <td>Torgersen</td>\n",
       "      <td>42.9</td>\n",
       "      <td>17.6</td>\n",
       "      <td>196.0</td>\n",
       "      <td>4700.0</td>\n",
       "      <td>Male</td>\n",
       "    </tr>\n",
       "    <tr>\n",
       "      <th>101</th>\n",
       "      <td>Adelie</td>\n",
       "      <td>Biscoe</td>\n",
       "      <td>41.0</td>\n",
       "      <td>20.0</td>\n",
       "      <td>203.0</td>\n",
       "      <td>4725.0</td>\n",
       "      <td>Male</td>\n",
       "    </tr>\n",
       "    <tr>\n",
       "      <th>109</th>\n",
       "      <td>Adelie</td>\n",
       "      <td>Biscoe</td>\n",
       "      <td>43.2</td>\n",
       "      <td>19.0</td>\n",
       "      <td>197.0</td>\n",
       "      <td>4775.0</td>\n",
       "      <td>Male</td>\n",
       "    </tr>\n",
       "    <tr>\n",
       "      <th>111</th>\n",
       "      <td>Adelie</td>\n",
       "      <td>Biscoe</td>\n",
       "      <td>45.6</td>\n",
       "      <td>20.3</td>\n",
       "      <td>191.0</td>\n",
       "      <td>4600.0</td>\n",
       "      <td>Male</td>\n",
       "    </tr>\n",
       "  </tbody>\n",
       "</table>\n",
       "</div>"
      ],
      "text/plain": [
       "    species     island  bill_length_mm  bill_depth_mm  flipper_length_mm  \\\n",
       "7    Adelie  Torgersen            39.2           19.6              195.0   \n",
       "39   Adelie      Dream            39.8           19.1              184.0   \n",
       "45   Adelie      Dream            39.6           18.8              190.0   \n",
       "81   Adelie  Torgersen            42.9           17.6              196.0   \n",
       "101  Adelie     Biscoe            41.0           20.0              203.0   \n",
       "109  Adelie     Biscoe            43.2           19.0              197.0   \n",
       "111  Adelie     Biscoe            45.6           20.3              191.0   \n",
       "\n",
       "     body_mass_g   sex  \n",
       "7         4675.0  Male  \n",
       "39        4650.0  Male  \n",
       "45        4600.0  Male  \n",
       "81        4700.0  Male  \n",
       "101       4725.0  Male  \n",
       "109       4775.0  Male  \n",
       "111       4600.0  Male  "
      ]
     },
     "execution_count": 71,
     "metadata": {},
     "output_type": "execute_result"
    }
   ],
   "source": [
    "#your code here\n",
    "\n",
    "\n"
   ]
  },
  {
   "cell_type": "markdown",
   "id": "fc196d6d-d9ea-41d3-b112-679aa0a94b29",
   "metadata": {},
   "source": [
    "16 (point 1) with random tempreture of `np.random.uniform(-20, 0, len(penguins))`, merge the tempreture data to the penguins data with name of `tempreture`, and print the first 3 rows. hint: use index to merge 2 data sets"
   ]
  },
  {
   "cell_type": "code",
   "execution_count": 77,
   "id": "6d16fa52-8869-4044-aa4e-5b04b91ac849",
   "metadata": {},
   "outputs": [
    {
     "data": {
      "text/html": [
       "<div>\n",
       "<style scoped>\n",
       "    .dataframe tbody tr th:only-of-type {\n",
       "        vertical-align: middle;\n",
       "    }\n",
       "\n",
       "    .dataframe tbody tr th {\n",
       "        vertical-align: top;\n",
       "    }\n",
       "\n",
       "    .dataframe thead th {\n",
       "        text-align: right;\n",
       "    }\n",
       "</style>\n",
       "<table border=\"1\" class=\"dataframe\">\n",
       "  <thead>\n",
       "    <tr style=\"text-align: right;\">\n",
       "      <th></th>\n",
       "      <th>species</th>\n",
       "      <th>island</th>\n",
       "      <th>bill_length_mm</th>\n",
       "      <th>bill_depth_mm</th>\n",
       "      <th>flipper_length_mm</th>\n",
       "      <th>body_mass_g</th>\n",
       "      <th>sex</th>\n",
       "      <th>tempreture</th>\n",
       "    </tr>\n",
       "  </thead>\n",
       "  <tbody>\n",
       "    <tr>\n",
       "      <th>0</th>\n",
       "      <td>Adelie</td>\n",
       "      <td>Torgersen</td>\n",
       "      <td>39.1</td>\n",
       "      <td>18.7</td>\n",
       "      <td>181.0</td>\n",
       "      <td>3750.0</td>\n",
       "      <td>Male</td>\n",
       "      <td>-16.169611</td>\n",
       "    </tr>\n",
       "    <tr>\n",
       "      <th>1</th>\n",
       "      <td>Adelie</td>\n",
       "      <td>Torgersen</td>\n",
       "      <td>39.5</td>\n",
       "      <td>17.4</td>\n",
       "      <td>186.0</td>\n",
       "      <td>3800.0</td>\n",
       "      <td>Female</td>\n",
       "      <td>-7.557825</td>\n",
       "    </tr>\n",
       "    <tr>\n",
       "      <th>2</th>\n",
       "      <td>Adelie</td>\n",
       "      <td>Torgersen</td>\n",
       "      <td>40.3</td>\n",
       "      <td>18.0</td>\n",
       "      <td>195.0</td>\n",
       "      <td>3250.0</td>\n",
       "      <td>Female</td>\n",
       "      <td>-11.245445</td>\n",
       "    </tr>\n",
       "  </tbody>\n",
       "</table>\n",
       "</div>"
      ],
      "text/plain": [
       "  species     island  bill_length_mm  bill_depth_mm  flipper_length_mm  \\\n",
       "0  Adelie  Torgersen            39.1           18.7              181.0   \n",
       "1  Adelie  Torgersen            39.5           17.4              186.0   \n",
       "2  Adelie  Torgersen            40.3           18.0              195.0   \n",
       "\n",
       "   body_mass_g     sex  tempreture  \n",
       "0       3750.0    Male  -16.169611  \n",
       "1       3800.0  Female   -7.557825  \n",
       "2       3250.0  Female  -11.245445  "
      ]
     },
     "execution_count": 77,
     "metadata": {},
     "output_type": "execute_result"
    }
   ],
   "source": [
    "#your code here\n",
    "\n",
    "\n"
   ]
  },
  {
   "cell_type": "markdown",
   "id": "2ef7246a-4cda-4d90-a72c-50f943a38ded",
   "metadata": {},
   "source": [
    "## Question 17-21 will be on  data visualization "
   ]
  },
  {
   "cell_type": "markdown",
   "id": "7e3f9f07-b46e-468d-a226-1324e0a240a0",
   "metadata": {},
   "source": [
    "17 (point 1) with input of  `x = np.linspace(-1.5, 1.5, 50); y = x ** 2`, plot line of x, and y with the title of `\"Square Fucntion\"` "
   ]
  },
  {
   "cell_type": "code",
   "execution_count": 92,
   "id": "b5b5c8b0-ecda-48d7-b813-7359df85dd62",
   "metadata": {},
   "outputs": [
    {
     "data": {
      "text/plain": [
       "Text(0.5, 1.0, 'Square Fucntion')"
      ]
     },
     "execution_count": 92,
     "metadata": {},
     "output_type": "execute_result"
    },
    {
     "data": {
      "image/png": "[encoded data removed]",
      "text/plain": [
       "<Figure size 432x288 with 1 Axes>"
      ]
     },
     "metadata": {
      "needs_background": "light"
     },
     "output_type": "display_data"
    }
   ],
   "source": [
    "#your code here\n",
    "\n",
    "\n"
   ]
  },
  {
   "cell_type": "markdown",
   "id": "1f247072-b533-490f-bf0f-b80d4fe2a9be",
   "metadata": {},
   "source": [
    "18 (point 1) add horzental line y = 1 in red and vertical line x = 0 in blue to the plt in Q16, hint: if you use plt, you need to define min and max of x-axis and y-axis "
   ]
  },
  {
   "cell_type": "code",
   "execution_count": 91,
   "id": "63f50c4b-ddbb-4f7a-8f4c-c3386755a1c3",
   "metadata": {},
   "outputs": [
    {
     "data": {
      "text/plain": [
       "<matplotlib.collections.LineCollection at 0x1aa838795e0>"
      ]
     },
     "execution_count": 91,
     "metadata": {},
     "output_type": "execute_result"
    },
    {
     "data": {
      "image/png": "[encoded data removed]",
      "text/plain": [
       "<Figure size 432x288 with 1 Axes>"
      ]
     },
     "metadata": {
      "needs_background": "light"
     },
     "output_type": "display_data"
    }
   ],
   "source": [
    "#your code here\n",
    "\n",
    "\n"
   ]
  },
  {
   "cell_type": "markdown",
   "id": "6ce01013-d510-4f7e-b269-f1a76a85143f",
   "metadata": {},
   "source": [
    "19 (point 1) with input of  x = np.linspace(-1.5, 1.5, 50); y1 = x ** 2; y2 = x **3, plot line of x, y1 and y2 in a grid of 2 rows and 1 column "
   ]
  },
  {
   "cell_type": "code",
   "execution_count": 102,
   "id": "731dcd49-6f15-405e-8c68-327320c49a1d",
   "metadata": {},
   "outputs": [
    {
     "data": {
      "text/plain": [
       "[<matplotlib.lines.Line2D at 0x1aa83dd9df0>]"
      ]
     },
     "execution_count": 102,
     "metadata": {},
     "output_type": "execute_result"
    },
    {
     "data": {
      "image/png": "[encoded data removed]",
      "text/plain": [
       "<Figure size 576x432 with 2 Axes>"
      ]
     },
     "metadata": {
      "needs_background": "light"
     },
     "output_type": "display_data"
    }
   ],
   "source": [
    "#your code here\n",
    "\n",
    "\n",
    "\n"
   ]
  },
  {
   "cell_type": "markdown",
   "id": "07afe952-4755-4037-9540-0ac8fceca571",
   "metadata": {},
   "source": [
    "20 (point 1) use `bill_length_mm`, \t`bill_depth_mm`, `flipper_length_mm`, `body_mass_g` from  penguins dataframe, get coorelation matrix of these 4 columns and plot heatmap of coorrelaton matrix with annotation"
   ]
  },
  {
   "cell_type": "code",
   "execution_count": 21,
   "id": "78b64fff-4942-427e-9053-c45ad5d9f8ce",
   "metadata": {
    "tags": []
   },
   "outputs": [],
   "source": [
    "corr = penguins[['bill_length_mm','bill_depth_mm','flipper_length_mm', 'body_mass_g']].corr()\n",
    "corr"
   ]
  },
  {
   "cell_type": "code",
   "execution_count": 25,
   "id": "3a899351-22bc-4be9-abf6-a6baa1e85653",
   "metadata": {
    "tags": []
   },
   "outputs": [
    {
     "data": {
      "text/plain": [
       "<Axes: >"
      ]
     },
     "execution_count": 25,
     "metadata": {},
     "output_type": "execute_result"
    },
    {
     "data": {
      "image/png": "[encoded data removed]",
      "text/plain": [
       "<Figure size 640x480 with 2 Axes>"
      ]
     },
     "metadata": {},
     "output_type": "display_data"
    }
   ],
   "source": [
    "sns.heatmap(corr, annot = True)"
   ]
  }
 ],
 "metadata": {
  "kernelspec": {
   "display_name": "Python 3 (ipykernel)",
   "language": "python",
   "name": "python3"
  },
  "language_info": {
   "codemirror_mode": {
    "name": "ipython",
    "version": 3
   },
   "file_extension": ".py",
   "mimetype": "text/x-python",
   "name": "python",
   "nbconvert_exporter": "python",
   "pygments_lexer": "ipython3",
   "version": "3.11.5"
  }
 },
 "nbformat": 4,
 "nbformat_minor": 5
}
